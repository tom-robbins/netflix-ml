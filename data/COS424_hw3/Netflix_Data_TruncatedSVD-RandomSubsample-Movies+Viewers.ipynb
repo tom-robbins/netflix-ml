{
 "cells": [
  {
   "cell_type": "markdown",
   "metadata": {
    "deletable": true,
    "editable": true
   },
   "source": [
    "# HW3: Netflix Data Analysis"
   ]
  },
  {
   "cell_type": "markdown",
   "metadata": {
    "deletable": true,
    "editable": true
   },
   "source": [
    "In this homework assignment, you will analyze the netflix prize data. The data consist of 100,480,50 movie ratings on a scale from 0 to 5 stars. The reveiws are distributed across 17,770 movies and 480,189. We have provided the training data as a sparse matrix where the row corresponds to the movie ID and the column corresponds to the user ID. A seperate file contains the title and year of release for each movie. The original, raw data consists of multiple lists of tuples; each list is a seperate movie and each tuple is User ID, Rating, and Rating Year. \n",
    "The original data can be downloaded here: https://archive.org/download/nf_prize_dataset.tar\n",
    "Further information about the netflix prize is available online: \n",
    "https://en.wikipedia.org/wiki/Netflix_Prize\n",
    "https://www.netflixprize.com/"
   ]
  },
  {
   "cell_type": "code",
   "execution_count": 88,
   "metadata": {
    "collapsed": false,
    "deletable": true,
    "editable": true
   },
   "outputs": [],
   "source": [
    "import time\n",
    "import matplotlib.pyplot as plt\n",
    "import numpy as np\n",
    "import pandas as pd\n",
    "from scipy.sparse import csr_matrix\n",
    "import scipy.sparse as sparse\n",
    "from sklearn import metrics\n",
    "from sklearn.cluster import KMeans, MiniBatchKMeans\n",
    "from sklearn.decomposition import TruncatedSVD\n",
    "from sklearn.linear_model import LinearRegression\n",
    "from sklearn.metrics import mean_squared_error, r2_score\n",
    "from sklearn.model_selection import train_test_split\n"
   ]
  },
  {
   "cell_type": "code",
   "execution_count": 3,
   "metadata": {
    "collapsed": false,
    "deletable": true,
    "editable": true
   },
   "outputs": [
    {
     "name": "stdout",
     "output_type": "stream",
     "text": [
      "   ID    Year                          Name\n",
      "0   1  2003.0               Dinosaur Planet\n",
      "1   2  2004.0    Isle of Man TT 2004 Review\n",
      "2   3  1997.0                     Character\n",
      "3   4  1994.0  Paula Abdul's Get Up & Dance\n",
      "4   5  2004.0      The Rise and Fall of ECW\n",
      "(17770, 3)\n"
     ]
    }
   ],
   "source": [
    "# This file consists of titles and release years associated with each ID\n",
    "movie_titles = pd.read_csv('movie_titles.txt', header = None, names = ['ID','Year','Name'])\n",
    "print(movie_titles.head())\n",
    "print(movie_titles.shape)\n",
    "\n",
    "movie_by_id = {}\n",
    "for id, name, year in zip(movie_titles['ID'], movie_titles['Name'], movie_titles['Year']):\n",
    "    if not (np.isnan(year)):\n",
    "        year = str(int(year))\n",
    "    else:\n",
    "        year = 'NaN'\n",
    "    movie_by_id[id] = name + ' ' + '(' + year + ')'"
   ]
  },
  {
   "cell_type": "code",
   "execution_count": 4,
   "metadata": {
    "collapsed": false,
    "deletable": true,
    "editable": true
   },
   "outputs": [
    {
     "name": "stdout",
     "output_type": "stream",
     "text": [
      "(17771, 2649430)\n"
     ]
    }
   ],
   "source": [
    "# This file is a sparse matrix of movies by user, with each element a rating (1-5) or nonresponse (0)\n",
    "ratings_csr = scipy.sparse.load_npz('netflix_full_csr.npz')\n",
    "print(ratings_csr.shape)"
   ]
  },
  {
   "cell_type": "markdown",
   "metadata": {
    "deletable": true,
    "editable": true
   },
   "source": [
    "To avoid memory overflow errors we have randomly subsampled the data. Some computers can handle the full dataset (e.g. 2017 Macbook Pro can perform SVD on the full dataset). Older computers likely need to subsample the data. You can consider using Princeton computing resources and clusters to perform more computationally expensive analysis."
   ]
  },
  {
   "cell_type": "code",
   "execution_count": 5,
   "metadata": {
    "collapsed": false,
    "deletable": true,
    "editable": true
   },
   "outputs": [],
   "source": [
    "#n_samples = 5000\n",
    "n_viewers = 500000\n",
    "#random_sample_movies = np.random.choice(17771, size = n_samples)\n",
    "random_sample_viewers = np.random.choice(2649430, size = n_viewers)\n",
    "ratings_small = ratings_csr[:,random_sample_viewers]"
   ]
  },
  {
   "cell_type": "code",
   "execution_count": 6,
   "metadata": {
    "collapsed": false,
    "deletable": true,
    "editable": true
   },
   "outputs": [
    {
     "name": "stdout",
     "output_type": "stream",
     "text": [
      "before removing users with no reviews:  (2649430, 17771)\n",
      "(480189, 17771)\n",
      "finished in 24.09 seconds\n"
     ]
    }
   ],
   "source": [
    "# Filter the matris to remove rows with NO REVIEWS\n",
    "start = time.time()\n",
    "ratings_csc = ratings_csr.T\n",
    "print 'before removing users with no reviews: ', ratings_csc.shape\n",
    "non_zero_users_csc = ratings_csc[(ratings_csc.getnnz(axis=1) != 0)]\n",
    "print non_zero_users_csc.shape\n",
    "\n",
    "finish = time.time()\n",
    "print 'finished in %.2f seconds' % (finish - start)"
   ]
  },
  {
   "cell_type": "markdown",
   "metadata": {
    "deletable": true,
    "editable": true
   },
   "source": [
    "A common methods for analyzing large datasets is dimension reduction. Here we perform a truncated SVD suited for sparse datasets and analyze which movies are associated with different latent dimensions"
   ]
  },
  {
   "cell_type": "code",
   "execution_count": 7,
   "metadata": {
    "collapsed": false,
    "deletable": true,
    "editable": true
   },
   "outputs": [],
   "source": [
    "from sklearn.decomposition import TruncatedSVD"
   ]
  },
  {
   "cell_type": "code",
   "execution_count": 7,
   "metadata": {
    "collapsed": true,
    "deletable": true,
    "editable": true
   },
   "outputs": [],
   "source": [
    "n_components = 5\n",
    "svd = TruncatedSVD(n_components = n_components)"
   ]
  },
  {
   "cell_type": "code",
   "execution_count": 8,
   "metadata": {
    "collapsed": false,
    "deletable": true,
    "editable": true
   },
   "outputs": [],
   "source": [
    "Z = svd.fit_transform(ratings_small)"
   ]
  },
  {
   "cell_type": "code",
   "execution_count": 9,
   "metadata": {
    "collapsed": true,
    "deletable": true,
    "editable": true
   },
   "outputs": [],
   "source": [
    "components = svd.components_"
   ]
  },
  {
   "cell_type": "code",
   "execution_count": 10,
   "metadata": {
    "collapsed": false,
    "deletable": true,
    "editable": true
   },
   "outputs": [
    {
     "name": "stdout",
     "output_type": "stream",
     "text": [
      "[0.22315634 0.02998073 0.01984643 0.01672574 0.01252159]\n"
     ]
    }
   ],
   "source": [
    "print(svd.explained_variance_ratio_)"
   ]
  },
  {
   "cell_type": "code",
   "execution_count": null,
   "metadata": {
    "collapsed": false,
    "deletable": true,
    "editable": true,
    "scrolled": true
   },
   "outputs": [],
   "source": [
    "for i in range(0,n_components):\n",
    "    Z_sort = np.argsort(np.abs(Z[:,i]))\n",
    "    print('Component ' + str(i))\n",
    "    for j in range(1,10):\n",
    "        movie_index = Z_sort[-j]\n",
    "        movie_title = movie_titles[movie_titles['ID'] == movie_index]['Name']\n",
    "        movie_weight = Z[movie_index,i]\n",
    "        print(str(movie_title) + ': ' + str(movie_weight))\n",
    "    print(' ')"
   ]
  },
  {
   "cell_type": "code",
   "execution_count": 8,
   "metadata": {
    "collapsed": false,
    "deletable": true,
    "editable": true
   },
   "outputs": [],
   "source": [
    "non_zero_users_csr = csr_matrix(non_zero_users_csc)\n",
    "reviews_by_user = {}\n",
    "for u in range(non_zero_users_csr.shape[0]):\n",
    "    reviews_by_user[u] = non_zero_users_csr[u,:].count_nonzero()"
   ]
  },
  {
   "cell_type": "code",
   "execution_count": 19,
   "metadata": {
    "collapsed": false
   },
   "outputs": [
    {
     "name": "stdout",
     "output_type": "stream",
     "text": [
      "[17653, 17436, 16565, 15813, 14831, 9821, 9768, 9739, 9064, 8881]\n",
      "[55373, 70466, 442139, 301823, 383961, 265129, 297513, 238656, 472465, 350357]\n"
     ]
    }
   ],
   "source": [
    "s = sorted(reviews_by_user.keys(), key=lambda x: reviews_by_user[x], reverse=True)[:10]\n",
    "print [reviews_by_user[i] for i in s]\n",
    "print s"
   ]
  },
  {
   "cell_type": "code",
   "execution_count": 105,
   "metadata": {
    "collapsed": false
   },
   "outputs": [
    {
     "data": {
      "text/plain": [
       "(17771, 480189)"
      ]
     },
     "execution_count": 105,
     "metadata": {},
     "output_type": "execute_result"
    }
   ],
   "source": [
    "ratings_small = non_zero_users_csc\n",
    "n_viewers = 100000\n",
    "ratings_small = ratings_small.transpose()\n",
    "ratings_small.shape"
   ]
  },
  {
   "cell_type": "code",
   "execution_count": null,
   "metadata": {
    "collapsed": false
   },
   "outputs": [
    {
     "name": "stdout",
     "output_type": "stream",
     "text": [
      "Movie #1, Dinosaur Planet (2003), average rating: 3.75 in 547 reviews\n",
      "MSE: 1.21\n",
      "r2 value: 0.10\n",
      "time: 2.16 ... (0.81 + 1.35)\n",
      "\n",
      "Movie #2, Isle of Man TT 2004 Review (2004), average rating: 3.56 in 145 reviews\n",
      "MSE: 1.43\n",
      "r2 value: 0.08\n",
      "time: 1.31 ... (0.72 + 0.60)\n",
      "\n",
      "Movie #3, Character (1997), average rating: 3.64 in 2012 reviews\n",
      "MSE: 1.26\n",
      "r2 value: -0.05\n",
      "time: 2.67 ... (0.71 + 1.96)\n",
      "\n",
      "Movie #4, Paula Abdul's Get Up & Dance (1994), average rating: 2.74 in 142 reviews\n",
      "MSE: 2.07\n",
      "r2 value: -0.35\n",
      "time: 1.46 ... (0.73 + 0.73)\n",
      "\n",
      "Movie #5, The Rise and Fall of ECW (2004), average rating: 3.92 in 1140 reviews\n",
      "MSE: 1.29\n",
      "r2 value: 0.31\n",
      "time: 2.13 ... (0.74 + 1.39)\n",
      "\n",
      "Movie #6, Sick (1997), average rating: 3.08 in 1019 reviews\n",
      "MSE: 1.17\n",
      "r2 value: 0.43\n",
      "time: 2.19 ... (0.76 + 1.43)\n",
      "\n",
      "Movie #7, 8 Man (1992), average rating: 2.13 in 93 reviews\n",
      "MSE: 1.56\n",
      "r2 value: -0.36\n",
      "time: 1.11 ... (0.73 + 0.38)\n",
      "\n",
      "Movie #8, What the #$*! Do We Know!? (2004), average rating: 3.19 in 14910 reviews\n",
      "MSE: 1.39\n",
      "r2 value: 0.07\n",
      "time: 2.23 ... (0.97 + 1.26)\n",
      "\n",
      "Movie #9, Class of Nuke 'Em High 2 (1991), average rating: 2.62 in 95 reviews\n",
      "MSE: 1.76\n",
      "r2 value: 0.07\n",
      "time: 1.05 ... (0.81 + 0.24)\n",
      "\n",
      "Movie #10, Fighter (2001), average rating: 3.18 in 249 reviews\n",
      "MSE: 1.30\n",
      "r2 value: -0.13\n",
      "time: 1.38 ... (0.71 + 0.67)\n",
      "\n",
      "Movie #11, Full Frame: Documentary Shorts (1999), average rating: 3.03 in 198 reviews\n",
      "MSE: 2.01\n",
      "r2 value: -0.68\n",
      "time: 1.49 ... (0.66 + 0.83)\n",
      "\n",
      "Movie #12, My Favorite Brunette (1947), average rating: 3.42 in 546 reviews\n",
      "MSE: 0.42\n",
      "r2 value: 0.68\n",
      "time: 2.10 ... (0.77 + 1.33)\n",
      "\n",
      "Movie #13, Lord of the Rings: The Return of the King: Extended Edition: Bonus Material (2003), average rating: 4.55 in 125 reviews\n",
      "MSE: 0.49\n",
      "r2 value: -0.03\n",
      "time: 2.05 ... (1.36 + 0.69)\n",
      "\n",
      "Movie #14, Nature: Antarctica (1982), average rating: 3.03 in 118 reviews\n",
      "MSE: 0.98\n",
      "r2 value: -0.04\n",
      "time: 0.97 ... (0.61 + 0.36)\n",
      "\n",
      "Movie #15, Neil Diamond: Greatest Hits Live (1988), average rating: 3.29 in 290 reviews\n",
      "MSE: 2.04\n",
      "r2 value: -0.37\n",
      "time: 2.01 ... (0.91 + 1.10)\n",
      "\n",
      "Movie #16, Screamers (1996), average rating: 3.10 in 2699 reviews\n",
      "MSE: 0.72\n",
      "r2 value: 0.12\n",
      "time: 2.77 ... (0.83 + 1.94)\n",
      "\n",
      "Movie #17, 7 Seconds (2005), average rating: 2.90 in 7108 reviews\n",
      "MSE: 1.47\n",
      "r2 value: -0.66\n",
      "time: 1.88 ... (0.57 + 1.31)\n",
      "\n",
      "Movie #18, Immortal Beloved (1994), average rating: 3.78 in 10722 reviews\n",
      "MSE: 1.43\n",
      "r2 value: -0.26\n",
      "time: 2.30 ... (0.88 + 1.42)\n",
      "\n",
      "Movie #19, By Dawn's Early Light (2000), average rating: 3.32 in 539 reviews\n",
      "MSE: 0.63\n",
      "r2 value: 0.33\n",
      "time: 4.69 ... (0.93 + 3.76)\n",
      "\n",
      "Movie #20, Seeta Aur Geeta (1972), average rating: 3.15 in 116 reviews\n",
      "MSE: 1.02\n",
      "r2 value: 0.17\n",
      "time: 1.15 ... (0.74 + 0.41)\n",
      "\n",
      "Movie #21, Strange Relations (2002), average rating: 3.46 in 218 reviews\n",
      "MSE: 1.39\n",
      "r2 value: 0.02\n",
      "time: 1.39 ... (0.58 + 0.81)\n",
      "\n",
      "Movie #22, Chump Change (2000), average rating: 2.25 in 203 reviews\n",
      "MSE: 0.90\n",
      "r2 value: 0.17\n",
      "time: 1.35 ... (0.66 + 0.69)\n",
      "\n",
      "Movie #23, Clifford: Clifford Saves the Day! / Clifford's Fluffiest Friend Cleo (2001), average rating: 3.56 in 615 reviews\n",
      "MSE: 0.51\n",
      "r2 value: 0.56\n",
      "time: 1.96 ... (0.60 + 1.36)\n",
      "\n",
      "Movie #24, My Bloody Valentine (1981), average rating: 2.99 in 1333 reviews\n",
      "MSE: 0.50\n",
      "r2 value: 0.50\n",
      "time: 1.84 ... (0.64 + 1.20)\n",
      "\n",
      "Movie #25, Inspector Morse 31: Death Is Now My Neighbour (1997), average rating: 3.97 in 1207 reviews\n",
      "MSE: 0.48\n",
      "r2 value: 0.36\n",
      "time: 1.73 ... (0.54 + 1.19)\n",
      "\n",
      "Movie #26, Never Die Alone (2004), average rating: 2.79 in 5861 reviews\n",
      "MSE: 1.25\n",
      "r2 value: -0.10\n",
      "time: 2.29 ... (0.64 + 1.65)\n",
      "\n",
      "Movie #27, Sesame Street: Elmo's World: The Street We Live On (1962), average rating: 3.53 in 273 reviews\n",
      "MSE: 1.42\n",
      "r2 value: 0.04\n",
      "time: 1.89 ... (0.56 + 1.32)\n",
      "\n",
      "Movie #28, Lilo and Stitch (2002), average rating: 3.82 in 39752 reviews\n",
      "MSE: 1.17\n",
      "r2 value: 0.07\n",
      "time: 2.09 ... (0.93 + 1.15)\n",
      "\n",
      "Movie #29, Boycott (2001), average rating: 3.60 in 523 reviews\n",
      "MSE: 0.48\n",
      "r2 value: 0.57\n",
      "time: 1.66 ... (0.53 + 1.13)\n",
      "\n",
      "Movie #30, Something's Gotta Give (2003), average rating: 3.76 in 118413 reviews\n",
      "MSE: 1.32\n",
      "r2 value: -0.31\n",
      "time: 2.94 ... (0.65 + 2.28)\n",
      "\n",
      "Movie #31, Classic Albums: Meat Loaf: Bat Out of Hell (1999), average rating: 3.05 in 221 reviews\n",
      "MSE: 2.14\n",
      "r2 value: -0.71\n",
      "time: 2.01 ... (1.12 + 0.89)\n",
      "\n",
      "Movie #32, ABC Primetime: Mel Gibson's The Passion of the Christ (2004), average rating: 4.07 in 1854 reviews\n",
      "MSE: 1.30\n",
      "r2 value: 0.00\n",
      "time: 1.86 ... (0.58 + 1.28)\n",
      "\n",
      "Movie #33, Aqua Teen Hunger Force: Vol. 1 (2000), average rating: 4.17 in 6890 reviews\n",
      "MSE: 1.13\n",
      "r2 value: -0.05\n",
      "time: 1.89 ... (0.55 + 1.34)\n",
      "\n",
      "Movie #34, Ashtanga Yoga: Beginner's Practice with Nicki Doane (2003), average rating: 2.71 in 108 reviews\n",
      "MSE: 2.43\n",
      "r2 value: -0.88\n",
      "time: 0.80 ... (0.45 + 0.34)\n",
      "\n",
      "Movie #35, Ferngully 2: The Magical Rescue (2000), average rating: 3.15 in 839 reviews\n",
      "MSE: 0.98\n",
      "r2 value: 0.28\n",
      "time: 2.26 ... (0.94 + 1.32)\n",
      "\n",
      "Movie #36, Lady Chatterley (1992), average rating: 3.02 in 939 reviews\n",
      "MSE: 1.09\n",
      "r2 value: -0.17\n",
      "time: 1.58 ... (0.50 + 1.08)\n",
      "\n",
      "Movie #37, Zatoichi's Conspiracy (1973), average rating: 3.99 in 281 reviews\n",
      "MSE: 0.65\n",
      "r2 value: 0.28\n",
      "time: 2.05 ... (0.85 + 1.20)\n",
      "\n",
      "Movie #38, Daydream Obsession (2003), average rating: 2.05 in 802 reviews\n",
      "MSE: 1.05\n",
      "r2 value: 0.29\n",
      "time: 2.21 ... (0.66 + 1.55)\n",
      "\n",
      "Movie #39, Love Reinvented (2000), average rating: 2.44 in 752 reviews\n",
      "MSE: 0.61\n",
      "r2 value: 0.54\n",
      "time: 2.88 ... (1.01 + 1.88)\n",
      "\n",
      "Movie #40, Pitcher and the Pin-Up (2004), average rating: 2.92 in 491 reviews\n",
      "MSE: 1.67\n",
      "r2 value: -0.42\n",
      "time: 3.21 ... (0.58 + 2.63)\n",
      "\n",
      "Movie #41, Horror Vision (2000), average rating: 1.63 in 93 reviews\n",
      "MSE: 0.52\n",
      "r2 value: 0.02\n",
      "time: 2.00 ... (1.28 + 0.72)\n",
      "\n",
      "Movie #42, Searching for Paradise (2002), average rating: 2.33 in 128 reviews\n",
      "MSE: 0.89\n",
      "r2 value: -0.07\n",
      "time: 2.45 ... (1.14 + 1.31)\n",
      "\n",
      "Movie #43, Silent Service (2000), average rating: 2.57 in 105 reviews\n",
      "MSE: 1.58\n",
      "r2 value: -0.03\n",
      "time: 1.87 ... (1.11 + 0.77)\n",
      "\n",
      "Movie #44, Spitfire Grill (1996), average rating: 3.68 in 8501 reviews\n",
      "MSE: 1.48\n",
      "r2 value: -0.65\n",
      "time: 3.27 ... (0.87 + 2.40)\n",
      "\n",
      "Movie #45, The Love Letter (1999), average rating: 2.97 in 2619 reviews\n",
      "MSE: 1.05\n",
      "r2 value: -0.23\n",
      "time: 3.55 ... (1.27 + 2.28)\n",
      "\n",
      "Movie #46, Rudolph the Red-Nosed Reindeer (1964), average rating: 3.81 in 6558 reviews\n",
      "MSE: 1.10\n",
      "r2 value: -0.13\n",
      "time: 4.27 ... (1.40 + 2.87)\n",
      "\n",
      "Movie #47, The Bad and the Beautiful (1952), average rating: 3.27 in 2350 reviews\n",
      "MSE: 0.83\n",
      "r2 value: 0.25\n",
      "time: 3.02 ... (1.15 + 1.87)\n",
      "\n",
      "Movie #48, Justice League (2001), average rating: 3.71 in 3591 reviews\n",
      "MSE: 0.83\n",
      "r2 value: 0.12\n",
      "time: 2.77 ... (0.73 + 2.04)\n",
      "\n",
      "Movie #49, Devo: The Complete Truth About De-evolution (2003), average rating: 3.67 in 231 reviews\n",
      "MSE: 1.67\n",
      "r2 value: -0.16\n",
      "time: 1.90 ... (0.90 + 1.00)\n",
      "\n",
      "Movie #50, A Yank in the R.A.F. (1941), average rating: 3.03 in 328 reviews\n",
      "MSE: 1.28\n",
      "r2 value: -0.21\n",
      "time: 1.94 ... (0.84 + 1.10)\n",
      "\n",
      "Movie #51, Jonah: A VeggieTales Movie: Bonus Material (2002), average rating: 3.57 in 90 reviews\n",
      "MSE: 2.01\n",
      "r2 value: -0.56\n",
      "time: 1.13 ... (0.75 + 0.38)\n",
      "\n",
      "Movie #52, The Weather Underground (2002), average rating: 3.76 in 5147 reviews\n",
      "MSE: 0.84\n",
      "r2 value: -0.01\n",
      "time: 2.94 ... (1.06 + 1.89)\n",
      "\n",
      "Movie #53, The Bonesetter (2003), average rating: 1.68 in 114 reviews\n",
      "MSE: 1.03\n",
      "r2 value: 0.01\n",
      "time: 1.37 ... (0.91 + 0.46)\n",
      "\n",
      "Movie #54, We're Not Married (1952), average rating: 2.99 in 159 reviews\n",
      "MSE: 1.17\n",
      "r2 value: 0.00\n",
      "time: 1.57 ... (0.60 + 0.98)\n",
      "\n",
      "Movie #55, Jade (1995), average rating: 3.02 in 2406 reviews\n",
      "MSE: 1.07\n",
      "r2 value: 0.12\n",
      "time: 2.45 ... (0.79 + 1.66)\n",
      "\n",
      "Movie #56, Carandiru (2004), average rating: 3.65 in 1833 reviews\n",
      "MSE: 1.05\n",
      "r2 value: -0.27\n",
      "time: 3.76 ... (1.58 + 2.19)\n",
      "\n",
      "Movie #57, Richard III (1995), average rating: 3.68 in 3562 reviews\n",
      "MSE: 1.08\n",
      "r2 value: 0.04\n",
      "time: 2.35 ... (0.77 + 1.58)\n",
      "\n",
      "Movie #58, Dragonheart (1996), average rating: 3.61 in 17405 reviews\n",
      "MSE: 0.72\n",
      "r2 value: 0.01\n",
      "time: 2.43 ... (0.82 + 1.61)\n",
      "\n",
      "Movie #59, Sex and the Beauties (2003), average rating: 2.79 in 204 reviews\n",
      "MSE: 1.49\n",
      "r2 value: -0.06\n",
      "time: 2.03 ... (0.85 + 1.17)\n",
      "\n",
      "Movie #60, The Libertine (1969), average rating: 2.15 in 295 reviews\n",
      "MSE: 1.27\n",
      "r2 value: -0.21\n",
      "time: 2.10 ... (1.05 + 1.05)\n",
      "\n",
      "Movie #61, Ricky Martin: One Night Only (1999), average rating: 2.95 in 147 reviews\n",
      "MSE: 1.09\n",
      "r2 value: 0.11\n",
      "time: 1.70 ... (0.97 + 0.73)\n",
      "\n",
      "Movie #62, Ken Burns' America: Empire of the Air (1991), average rating: 3.62 in 290 reviews\n",
      "MSE: 1.12\n",
      "r2 value: -0.19\n",
      "time: 1.84 ... (0.70 + 1.14)\n",
      "\n",
      "Movie #63, Crash Dive (1943), average rating: 3.25 in 184 reviews\n",
      "MSE: 0.61\n",
      "r2 value: 0.07\n",
      "time: 2.12 ... (0.90 + 1.22)\n",
      "\n",
      "Movie #64, Outside the Law (2001), average rating: 2.42 in 95 reviews\n",
      "MSE: 0.55\n",
      "r2 value: -0.07\n",
      "time: 1.37 ... (1.08 + 0.29)\n",
      "\n",
      "Movie #65, Lost in the Pershing Point Hotel (2000), average rating: 2.33 in 258 reviews\n",
      "MSE: 1.58\n",
      "r2 value: -0.54\n",
      "time: 1.30 ... (0.54 + 0.76)\n",
      "\n",
      "Movie #66, Barbarian Queen 2 (1989), average rating: 2.30 in 166 reviews\n",
      "MSE: 1.46\n",
      "r2 value: 0.02\n",
      "time: 1.37 ... (0.79 + 0.59)\n",
      "\n",
      "Movie #67, Vampire Journals (1997), average rating: 2.56 in 289 reviews\n",
      "MSE: 1.48\n",
      "r2 value: -0.09\n",
      "time: 1.17 ... (0.51 + 0.66)\n",
      "\n",
      "Movie #68, Invader Zim (2004), average rating: 4.14 in 2216 reviews\n",
      "MSE: 1.31\n",
      "r2 value: 0.02\n",
      "time: 1.67 ... (0.49 + 1.17)\n",
      "\n",
      "Movie #69, WWE: Armageddon 2003 (2003), average rating: 3.29 in 116 reviews\n",
      "MSE: 0.80\n",
      "r2 value: 0.56\n",
      "time: 0.79 ... (0.46 + 0.33)\n",
      "\n",
      "Movie #70, Tai Chi: The 24 Forms (1999), average rating: 2.73 in 343 reviews\n",
      "MSE: 1.10\n",
      "r2 value: -0.16\n",
      "time: 1.37 ... (0.54 + 0.83)\n",
      "\n",
      "Movie #71, Maya Lin: A Strong Clear Vision (1995), average rating: 3.77 in 1561 reviews\n",
      "MSE: 1.02\n",
      "r2 value: -0.16\n",
      "time: 1.72 ... (0.61 + 1.11)\n",
      "\n",
      "Movie #72, At Home Among Strangers (1974), average rating: 3.15 in 179 reviews\n"
     ]
    }
   ],
   "source": [
    "max_reviews = 500\n",
    "movie_results_dict = {}\n",
    "# top_reviewers, random_sample\n",
    "choosing_mechanism = 'random_sample'\n",
    "\n",
    "for id in range(1, 100):\n",
    "    movie_id = id\n",
    "    num_reviews = ratings_small[movie_id].count_nonzero()\n",
    "    movie_name = movie_by_id[movie_id]\n",
    "    print 'Movie #%s, %s, average rating: %.2f in %i reviews' % (\n",
    "        movie_id,\n",
    "        movie_name,\n",
    "        np.sum(ratings_small[movie_id]) / num_reviews,\n",
    "        int(num_reviews)\n",
    "    )\n",
    "\n",
    "    start = time.time()\n",
    "    \n",
    "    # filter out the reviewers who havent seen the movie\n",
    "    user_mask = sparse.find(ratings_small[movie_id])[1]\n",
    "    \n",
    "    if (choosing_mechanism == 'top_reviewers'):\n",
    "        # if there are many reviews, only take the ones of high-volume reviewers\n",
    "        if (num_reviews > max_reviews):\n",
    "            user_list = np.ravel(np.where(user_mask == True))\n",
    "            user_list = sorted(user_list, key=lambda u: reviews_by_user[u])\n",
    "            user_mask = np.ravel(np.full((user_mask.shape[0], 1), False))\n",
    "            for u in user_list[:max_reviews]:\n",
    "                user_mask[u] = True\n",
    "                \n",
    "    elif (choosing_mechanism == 'random_sample'):\n",
    "        if (num_reviews > max_reviews):\n",
    "            rand_indexes = np.random.choice(len(user_mask), size=max_reviews)\n",
    "            user_mask = user_mask[rand_indexes]\n",
    "        \n",
    "    filtered_ratings = ratings_small[:,user_mask]\n",
    "    \n",
    "    # make mask to filter out review for the movie in question\n",
    "    movie_mask = np.ravel(np.full((filtered_ratings.shape[0], 1), True))\n",
    "    movie_mask[movie_id] = False\n",
    "    \n",
    "    # generate X and y, training and testing data splitting\n",
    "    X = filtered_ratings[movie_mask]\n",
    "    y = filtered_ratings[movie_id]\n",
    "    X_train, X_test, y_train, y_test = train_test_split(X.transpose().todense(), y.transpose().todense(), test_size=0.2)\n",
    "\n",
    "    finish = time.time()\n",
    "    data_time = (finish - start)\n",
    "    #print 'finished choosing data in %.2f seconds' % data\n",
    "\n",
    "    # Run the regression on the film\n",
    "    start = time.time()\n",
    "    regr = LinearRegression()\n",
    "    regr.fit(X_train, y_train)\n",
    "\n",
    "    y_pred = regr.predict(X_test)\n",
    "\n",
    "    #print 'Coefficients: \\n', regr.coef_\n",
    "    print \"MSE: %.2f\" % mean_squared_error(y_test, y_pred)\n",
    "    print 'r2 value: %.2f' % r2_score(y_test, y_pred)\n",
    "    finish = time.time()\n",
    "    regr_time = (finish - start)\n",
    "    #print 'finished regression in %.2f seconds' % regr_time\n",
    "    movie_results_dict[id] = {\n",
    "        'name': movie_by_id[movie_id],\n",
    "        'regr_time': regr_time,\n",
    "        'data_time': data_time,\n",
    "        'regr': regr,\n",
    "        'mse': mean_squared_error(y_test, y_pred),\n",
    "        'r2': r2_score(y_test, y_pred)\n",
    "    }\n",
    "    print 'time: %.2f ... (%.2f + %.2f)' % (data_time + regr_time, data_time, regr_time)\n",
    "    print"
   ]
  },
  {
   "cell_type": "code",
   "execution_count": 74,
   "metadata": {
    "collapsed": false
   },
   "outputs": [
    {
     "data": {
      "text/plain": [
       "{'data_time': 0.9145989418029785,\n",
       " 'mse': 1.4984351875293063,\n",
       " 'name': '2    Character\\nName: Name, dtype: object',\n",
       " 'r2': -0.8808786113140292,\n",
       " 'regr': LinearRegression(copy_X=True, fit_intercept=True, n_jobs=1, normalize=False),\n",
       " 'regr_time': 17.756766080856323}"
      ]
     },
     "execution_count": 74,
     "metadata": {},
     "output_type": "execute_result"
    }
   ],
   "source": [
    "movie_results_dict[3]"
   ]
  },
  {
   "cell_type": "code",
   "execution_count": 122,
   "metadata": {
    "collapsed": false
   },
   "outputs": [
    {
     "name": "stderr",
     "output_type": "stream",
     "text": [
      "/usr/local/lib/python2.7/site-packages/ipykernel/__main__.py:4: RuntimeWarning: invalid value encountered in divide\n"
     ]
    }
   ],
   "source": [
    "review_nums = []\n",
    "for i in range(17700):\n",
    "    num_reviews = ratings_small[:,i].count_nonzero()\n",
    "    review_nums.append((i, num_reviews, np.sum(ratings_small[:,i]) / num_reviews))"
   ]
  },
  {
   "cell_type": "code",
   "execution_count": 129,
   "metadata": {
    "collapsed": false
   },
   "outputs": [
    {
     "name": "stdout",
     "output_type": "stream",
     "text": [
      "681\t4.5389\tFruits Basket (2001)\n",
      "17292\t4.5426\tThe Simpsons: Season 5 (1993)\n",
      "92470\t4.5437\tStar Wars: Episode V: The Empire Strikes Back (1980)\n",
      "134284\t4.5451\tLord of the Rings: The Return of the King (2003)\n",
      "125\t4.5520\tLord of the Rings: The Return of the King: Extended Edition: Bonus Material (2003)\n",
      "1883\t4.5544\tInu-Yasha (2000)\n",
      "8426\t4.5813\tThe Simpsons: Season 6 (1994)\n",
      "6621\t4.5824\tArrested Development: Season 2 (2004)\n",
      "220\t4.5864\tGhost in the Shell: Stand Alone Complex: 2nd Gig (2005)\n",
      "1238\t4.5921\tVeronica Mars: Season 1 (2004)\n",
      "139660\t4.5934\tThe Shawshank Redemption: Special Edition (1994)\n",
      "89\t4.5955\tTenchi Muyo! Ryo Ohki (1995)\n",
      "25\t4.6000\tTrailer Park Boys: Season 4 (2003)\n",
      "75\t4.6000\tTrailer Park Boys: Season 3 (2003)\n",
      "1633\t4.6050\tFullmetal Alchemist (2004)\n",
      "1747\t4.6388\tBattlestar Galactica: Season 1 (2004)\n",
      "7249\t4.6710\tLost: Season 1 (2004)\n",
      "74912\t4.7026\tLord of the Rings: The Two Towers: Extended Edition (2002)\n",
      "73422\t4.7166\tThe Lord of the Rings: The Fellowship of the Ring: Extended Edition (2001)\n",
      "73335\t4.7233\tLord of the Rings: The Return of the King: Extended Edition (2003)\n"
     ]
    }
   ],
   "source": [
    "s = sorted(review_nums, key=lambda x: x[2])\n",
    "for movie_id, num, avg_review in s[-20:]:\n",
    "    print '%s\\t%0.4f\\t%s' % (num, avg_review, movie_by_id[movie_id])"
   ]
  },
  {
   "cell_type": "code",
   "execution_count": 33,
   "metadata": {
    "collapsed": false
   },
   "outputs": [
    {
     "ename": "IndexError",
     "evalue": "index out of bounds: 0 <= 8 <= 1, 0 <= 9 <= 1, 8 <= 9",
     "output_type": "error",
     "traceback": [
      "\u001b[0;31m---------------------------------------------------------------------------\u001b[0m",
      "\u001b[0;31mIndexError\u001b[0m                                Traceback (most recent call last)",
      "\u001b[0;32m<ipython-input-33-23c0afd6dc79>\u001b[0m in \u001b[0;36m<module>\u001b[0;34m()\u001b[0m\n\u001b[0;32m----> 1\u001b[0;31m \u001b[0mratings_small\u001b[0m\u001b[0;34m[\u001b[0m\u001b[0;36m1\u001b[0m\u001b[0;34m]\u001b[0m\u001b[0;34m[\u001b[0m\u001b[0;36m8\u001b[0m\u001b[0;34m]\u001b[0m\u001b[0;34m\u001b[0m\u001b[0m\n\u001b[0m",
      "\u001b[0;32m/usr/local/lib/python2.7/site-packages/scipy/sparse/csc.pyc\u001b[0m in \u001b[0;36m__getitem__\u001b[0;34m(self, key)\u001b[0m\n\u001b[1;32m    167\u001b[0m         if (isinstance(row, slice) or isinstance(col, slice) or\n\u001b[1;32m    168\u001b[0m                 isintlike(row) or isintlike(col)):\n\u001b[0;32m--> 169\u001b[0;31m             \u001b[0;32mreturn\u001b[0m \u001b[0mself\u001b[0m\u001b[0;34m.\u001b[0m\u001b[0mT\u001b[0m\u001b[0;34m[\u001b[0m\u001b[0mcol\u001b[0m\u001b[0;34m,\u001b[0m \u001b[0mrow\u001b[0m\u001b[0;34m]\u001b[0m\u001b[0;34m.\u001b[0m\u001b[0mT\u001b[0m\u001b[0;34m\u001b[0m\u001b[0m\n\u001b[0m\u001b[1;32m    170\u001b[0m         \u001b[0;31m# Things that return a sequence of values.\u001b[0m\u001b[0;34m\u001b[0m\u001b[0;34m\u001b[0m\u001b[0m\n\u001b[1;32m    171\u001b[0m         \u001b[0;32melse\u001b[0m\u001b[0;34m:\u001b[0m\u001b[0;34m\u001b[0m\u001b[0m\n",
      "\u001b[0;32m/usr/local/lib/python2.7/site-packages/scipy/sparse/csr.pyc\u001b[0m in \u001b[0;36m__getitem__\u001b[0;34m(self, key)\u001b[0m\n\u001b[1;32m    302\u001b[0m                      row.step in (1, None))):\n\u001b[1;32m    303\u001b[0m                 \u001b[0;31m# col is int or slice with step 1, row is slice with step 1.\u001b[0m\u001b[0;34m\u001b[0m\u001b[0;34m\u001b[0m\u001b[0m\n\u001b[0;32m--> 304\u001b[0;31m                 \u001b[0;32mreturn\u001b[0m \u001b[0mself\u001b[0m\u001b[0;34m.\u001b[0m\u001b[0m_get_submatrix\u001b[0m\u001b[0;34m(\u001b[0m\u001b[0mrow\u001b[0m\u001b[0;34m,\u001b[0m \u001b[0mcol\u001b[0m\u001b[0;34m)\u001b[0m\u001b[0;34m\u001b[0m\u001b[0m\n\u001b[0m\u001b[1;32m    305\u001b[0m             \u001b[0;32melif\u001b[0m \u001b[0missequence\u001b[0m\u001b[0;34m(\u001b[0m\u001b[0mcol\u001b[0m\u001b[0;34m)\u001b[0m\u001b[0;34m:\u001b[0m\u001b[0;34m\u001b[0m\u001b[0m\n\u001b[1;32m    306\u001b[0m                 \u001b[0;31m# row is slice, col is sequence.\u001b[0m\u001b[0;34m\u001b[0m\u001b[0;34m\u001b[0m\u001b[0m\n",
      "\u001b[0;32m/usr/local/lib/python2.7/site-packages/scipy/sparse/csr.pyc\u001b[0m in \u001b[0;36m_get_submatrix\u001b[0;34m(self, row_slice, col_slice)\u001b[0m\n\u001b[1;32m    446\u001b[0m         \u001b[0mj0\u001b[0m\u001b[0;34m,\u001b[0m \u001b[0mj1\u001b[0m \u001b[0;34m=\u001b[0m \u001b[0mprocess_slice\u001b[0m\u001b[0;34m(\u001b[0m\u001b[0mcol_slice\u001b[0m\u001b[0;34m,\u001b[0m \u001b[0mN\u001b[0m\u001b[0;34m)\u001b[0m\u001b[0;34m\u001b[0m\u001b[0m\n\u001b[1;32m    447\u001b[0m         \u001b[0mcheck_bounds\u001b[0m\u001b[0;34m(\u001b[0m\u001b[0mi0\u001b[0m\u001b[0;34m,\u001b[0m \u001b[0mi1\u001b[0m\u001b[0;34m,\u001b[0m \u001b[0mM\u001b[0m\u001b[0;34m)\u001b[0m\u001b[0;34m\u001b[0m\u001b[0m\n\u001b[0;32m--> 448\u001b[0;31m         \u001b[0mcheck_bounds\u001b[0m\u001b[0;34m(\u001b[0m\u001b[0mj0\u001b[0m\u001b[0;34m,\u001b[0m \u001b[0mj1\u001b[0m\u001b[0;34m,\u001b[0m \u001b[0mN\u001b[0m\u001b[0;34m)\u001b[0m\u001b[0;34m\u001b[0m\u001b[0m\n\u001b[0m\u001b[1;32m    449\u001b[0m \u001b[0;34m\u001b[0m\u001b[0m\n\u001b[1;32m    450\u001b[0m         indptr, indices, data = get_csr_submatrix(M, N,\n",
      "\u001b[0;32m/usr/local/lib/python2.7/site-packages/scipy/sparse/csr.pyc\u001b[0m in \u001b[0;36mcheck_bounds\u001b[0;34m(i0, i1, num)\u001b[0m\n\u001b[1;32m    441\u001b[0m                 raise IndexError(\n\u001b[1;32m    442\u001b[0m                       \u001b[0;34m\"index out of bounds: 0 <= %d <= %d, 0 <= %d <= %d,\"\u001b[0m\u001b[0;34m\u001b[0m\u001b[0m\n\u001b[0;32m--> 443\u001b[0;31m                       \" %d <= %d\" % (i0, num, i1, num, i0, i1))\n\u001b[0m\u001b[1;32m    444\u001b[0m \u001b[0;34m\u001b[0m\u001b[0m\n\u001b[1;32m    445\u001b[0m         \u001b[0mi0\u001b[0m\u001b[0;34m,\u001b[0m \u001b[0mi1\u001b[0m \u001b[0;34m=\u001b[0m \u001b[0mprocess_slice\u001b[0m\u001b[0;34m(\u001b[0m\u001b[0mrow_slice\u001b[0m\u001b[0;34m,\u001b[0m \u001b[0mM\u001b[0m\u001b[0;34m)\u001b[0m\u001b[0;34m\u001b[0m\u001b[0m\n",
      "\u001b[0;31mIndexError\u001b[0m: index out of bounds: 0 <= 8 <= 1, 0 <= 9 <= 1, 8 <= 9"
     ]
    }
   ],
   "source": [
    "ratings_small[1][8]"
   ]
  },
  {
   "cell_type": "code",
   "execution_count": 68,
   "metadata": {
    "collapsed": false
   },
   "outputs": [
    {
     "name": "stdout",
     "output_type": "stream",
     "text": [
      "r2\n",
      "0.537\tHaven (2001)\n",
      "0.424\tYou're Invited to Mary-Kate and Ashley's Vacation Parties (1996)\n",
      "0.420\tGentlemen of Fortune (1971)\n",
      "0.415\tDark Shadows: Vol. 9 (1968)\n",
      "0.399\tThe Beverly Hillbillies (1962)\n",
      "0.392\tDevil in the Flesh 2 (2000)\n",
      "0.384\tThe Matchmaker (1958)\n",
      "0.355\tDanielle Steel's Heartbeat (1993)\n",
      "0.354\tA Touch of Frost: Seasons 7 & 8 (2003)\n",
      "0.351\tGupt (1997)\n",
      "\n",
      "MSE\n",
      "0.296\tAvia Vampire Hunter (2005)\n",
      "0.459\tHouse of Whipcord (1974)\n",
      "0.541\tThe Bravados (1958)\n",
      "0.548\tThe Giallo Collection: Who Saw Her Die? (1972)\n",
      "0.559\tHot War (1998)\n",
      "0.571\tPanic in the Streets (1950)\n",
      "0.585\tGoddess of Mercy (2004)\n",
      "0.617\tHaven (2001)\n",
      "0.658\tCadfael: A Morbid Taste for Bones (1996)\n",
      "0.665\tWhisper Kill (1988)\n"
     ]
    }
   ],
   "source": [
    "ks = movie_results_dict.keys()\n",
    "# sort by r2 value\n",
    "print 'r2'\n",
    "s = sorted(ks, key=lambda x: movie_results_dict[x]['r2'], reverse=True)\n",
    "for i in s[:10]:\n",
    "    print '%.3f\\t%s' % (movie_results_dict[i]['r2'], movie_results_dict[i]['name'])\n",
    "    \n",
    "# sort by mse\n",
    "print '\\nMSE'\n",
    "s = sorted(ks, key=lambda x: movie_results_dict[x]['mse'])\n",
    "for i in s[:10]:\n",
    "    print '%.3f\\t%s' % (movie_results_dict[i]['mse'], movie_results_dict[i]['name'])"
   ]
  },
  {
   "cell_type": "code",
   "execution_count": 71,
   "metadata": {
    "collapsed": false
   },
   "outputs": [],
   "source": [
    "import pickle\n",
    "with open('movie_results_dict_100_1000.pickle', 'wb') as f:\n",
    "    pickle.dump(movie_results_dict, f)"
   ]
  },
  {
   "cell_type": "code",
   "execution_count": null,
   "metadata": {
    "collapsed": true
   },
   "outputs": [],
   "source": []
  }
 ],
 "metadata": {
  "kernelspec": {
   "display_name": "Python 2",
   "language": "python",
   "name": "python2"
  },
  "language_info": {
   "codemirror_mode": {
    "name": "ipython",
    "version": 2
   },
   "file_extension": ".py",
   "mimetype": "text/x-python",
   "name": "python",
   "nbconvert_exporter": "python",
   "pygments_lexer": "ipython2",
   "version": "2.7.13"
  }
 },
 "nbformat": 4,
 "nbformat_minor": 2
}
