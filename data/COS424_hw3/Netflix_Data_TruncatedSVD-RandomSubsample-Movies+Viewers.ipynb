{
 "cells": [
  {
   "cell_type": "markdown",
   "metadata": {
    "deletable": true,
    "editable": true
   },
   "source": [
    "# HW3: Netflix Data Analysis"
   ]
  },
  {
   "cell_type": "markdown",
   "metadata": {
    "deletable": true,
    "editable": true
   },
   "source": [
    "In this homework assignment, you will analyze the netflix prize data. The data consist of 100,480,50 movie ratings on a scale from 0 to 5 stars. The reveiws are distributed across 17,770 movies and 480,189. We have provided the training data as a sparse matrix where the row corresponds to the movie ID and the column corresponds to the user ID. A seperate file contains the title and year of release for each movie. The original, raw data consists of multiple lists of tuples; each list is a seperate movie and each tuple is User ID, Rating, and Rating Year. \n",
    "The original data can be downloaded here: https://archive.org/download/nf_prize_dataset.tar\n",
    "Further information about the netflix prize is available online: \n",
    "https://en.wikipedia.org/wiki/Netflix_Prize\n",
    "https://www.netflixprize.com/"
   ]
  },
  {
   "cell_type": "code",
   "execution_count": 2,
   "metadata": {
    "collapsed": false,
    "deletable": true,
    "editable": true
   },
   "outputs": [],
   "source": [
    "import time\n",
    "import matplotlib.pyplot as plt\n",
    "import numpy as np\n",
    "import pandas as pd\n",
    "from scipy.sparse import csr_matrix\n",
    "import scipy.sparse\n",
    "from sklearn import metrics\n",
    "from sklearn.cluster import KMeans, MiniBatchKMeans\n",
    "from sklearn.decomposition import TruncatedSVD\n",
    "from sklearn.linear_model import LinearRegression\n",
    "from sklearn.metrics import mean_squared_error, r2_score\n",
    "from sklearn.model_selection import train_test_split\n"
   ]
  },
  {
   "cell_type": "code",
   "execution_count": 116,
   "metadata": {
    "collapsed": false,
    "deletable": true,
    "editable": true
   },
   "outputs": [
    {
     "name": "stdout",
     "output_type": "stream",
     "text": [
      "   ID    Year                          Name\n",
      "0   1  2003.0               Dinosaur Planet\n",
      "1   2  2004.0    Isle of Man TT 2004 Review\n",
      "2   3  1997.0                     Character\n",
      "3   4  1994.0  Paula Abdul's Get Up & Dance\n",
      "4   5  2004.0      The Rise and Fall of ECW\n",
      "(17770, 3)\n"
     ]
    }
   ],
   "source": [
    "# This file consists of titles and release years associated with each ID\n",
    "movie_titles = pd.read_csv('movie_titles.txt', header = None, names = ['ID','Year','Name'])\n",
    "print(movie_titles.head())\n",
    "print(movie_titles.shape)\n",
    "\n",
    "movie_by_id = {}\n",
    "for id, name, year in zip(movie_titles['ID'], movie_titles['Name'], movie_titles['Year']):\n",
    "    if not (np.isnan(year)):\n",
    "        year = str(int(year))\n",
    "    else:\n",
    "        year = 'NaN'\n",
    "    movie_by_id[id] = name + ' ' + '(' + year + ')'"
   ]
  },
  {
   "cell_type": "code",
   "execution_count": 4,
   "metadata": {
    "collapsed": false,
    "deletable": true,
    "editable": true
   },
   "outputs": [
    {
     "name": "stdout",
     "output_type": "stream",
     "text": [
      "(17771, 2649430)\n"
     ]
    }
   ],
   "source": [
    "# This file is a sparse matrix of movies by user, with each element a rating (1-5) or nonresponse (0)\n",
    "ratings_csr = scipy.sparse.load_npz('netflix_full_csr.npz')\n",
    "print(ratings_csr.shape)"
   ]
  },
  {
   "cell_type": "markdown",
   "metadata": {
    "deletable": true,
    "editable": true
   },
   "source": [
    "To avoid memory overflow errors we have randomly subsampled the data. Some computers can handle the full dataset (e.g. 2017 Macbook Pro can perform SVD on the full dataset). Older computers likely need to subsample the data. You can consider using Princeton computing resources and clusters to perform more computationally expensive analysis."
   ]
  },
  {
   "cell_type": "code",
   "execution_count": 13,
   "metadata": {
    "collapsed": false,
    "deletable": true,
    "editable": true
   },
   "outputs": [],
   "source": [
    "#n_samples = 5000\n",
    "n_viewers = 500000\n",
    "#random_sample_movies = np.random.choice(17771, size = n_samples)\n",
    "random_sample_viewers = np.random.choice(2649430, size = n_viewers)\n",
    "ratings_small = ratings_csr[:,random_sample_viewers]"
   ]
  },
  {
   "cell_type": "code",
   "execution_count": 22,
   "metadata": {
    "collapsed": false,
    "deletable": true,
    "editable": true
   },
   "outputs": [
    {
     "name": "stdout",
     "output_type": "stream",
     "text": [
      "before removing users with no reviews:  (2649430, 17771)\n",
      "(480189, 17771)\n",
      "finished in 21.74 seconds\n"
     ]
    }
   ],
   "source": [
    "# Filter the matris to remove rows with NO REVIEWS\n",
    "start = time.time()\n",
    "ratings_csc = ratings_csr.T\n",
    "print 'before removing users with no reviews: ', ratings_csc.shape\n",
    "non_zero_users_csc = ratings_csc[(ratings_csc.getnnz(axis=1) != 0)]\n",
    "print non_zero_users_csc.shape\n",
    "\n",
    "finish = time.time()\n",
    "print 'finished in %.2f seconds' % (finish - start)"
   ]
  },
  {
   "cell_type": "markdown",
   "metadata": {
    "deletable": true,
    "editable": true
   },
   "source": [
    "A common methods for analyzing large datasets is dimension reduction. Here we perform a truncated SVD suited for sparse datasets and analyze which movies are associated with different latent dimensions"
   ]
  },
  {
   "cell_type": "code",
   "execution_count": 6,
   "metadata": {
    "collapsed": false,
    "deletable": true,
    "editable": true
   },
   "outputs": [],
   "source": [
    "from sklearn.decomposition import TruncatedSVD"
   ]
  },
  {
   "cell_type": "code",
   "execution_count": 7,
   "metadata": {
    "collapsed": true,
    "deletable": true,
    "editable": true
   },
   "outputs": [],
   "source": [
    "n_components = 5\n",
    "svd = TruncatedSVD(n_components = n_components)"
   ]
  },
  {
   "cell_type": "code",
   "execution_count": 8,
   "metadata": {
    "collapsed": false,
    "deletable": true,
    "editable": true
   },
   "outputs": [],
   "source": [
    "Z = svd.fit_transform(ratings_small)"
   ]
  },
  {
   "cell_type": "code",
   "execution_count": 9,
   "metadata": {
    "collapsed": true,
    "deletable": true,
    "editable": true
   },
   "outputs": [],
   "source": [
    "components = svd.components_"
   ]
  },
  {
   "cell_type": "code",
   "execution_count": 10,
   "metadata": {
    "collapsed": false,
    "deletable": true,
    "editable": true
   },
   "outputs": [
    {
     "name": "stdout",
     "output_type": "stream",
     "text": [
      "[0.22315634 0.02998073 0.01984643 0.01672574 0.01252159]\n"
     ]
    }
   ],
   "source": [
    "print(svd.explained_variance_ratio_)"
   ]
  },
  {
   "cell_type": "code",
   "execution_count": 11,
   "metadata": {
    "collapsed": false,
    "deletable": true,
    "editable": true,
    "scrolled": true
   },
   "outputs": [
    {
     "name": "stdout",
     "output_type": "stream",
     "text": [
      "Component 0\n",
      "1904    Pirates of the Caribbean: The Curse of the Bla...\n",
      "Name: Name, dtype: object: 628.2421679719206\n",
      "11282    Forrest Gump\n",
      "Name: Name, dtype: object: 618.6151597228289\n",
      "2451    Lord of the Rings: The Fellowship of the Ring\n",
      "Name: Name, dtype: object: 580.2945735548218\n",
      "11520    Lord of the Rings: The Two Towers\n",
      "Name: Name, dtype: object: 578.3100591346567\n",
      "4305    The Sixth Sense\n",
      "Name: Name, dtype: object: 569.0264968651688\n",
      "16376    The Green Mile\n",
      "Name: Name, dtype: object: 561.3186664751792\n",
      "14549    The Shawshank Redemption: Special Edition\n",
      "Name: Name, dtype: object: 558.6274883101519\n",
      "15123    Independence Day\n",
      "Name: Name, dtype: object: 551.1692711931979\n",
      "13727    Gladiator\n",
      "Name: Name, dtype: object: 543.994579121776\n",
      " \n",
      "Component 1\n",
      "5316    Miss Congeniality\n",
      "Name: Name, dtype: object: 232.95887472280333\n",
      "15204    The Day After Tomorrow\n",
      "Name: Name, dtype: object: 227.55474730855732\n",
      "9339    Pearl Harbor\n",
      "Name: Name, dtype: object: 222.18553361372844\n",
      "2121    Being John Malkovich\n",
      "Name: Name, dtype: object: -219.65678881223482\n",
      "4995    Gone in 60 Seconds\n",
      "Name: Name, dtype: object: 214.23353444964908\n",
      "15581    Sweet Home Alabama\n",
      "Name: Name, dtype: object: 213.6685934326208\n",
      "6971    Armageddon\n",
      "Name: Name, dtype: object: 208.30057077347217\n",
      "12671    John Q\n",
      "Name: Name, dtype: object: 207.09611067750345\n",
      "14537    How to Lose a Guy in 10 Days\n",
      "Name: Name, dtype: object: 206.46419635117687\n",
      " \n",
      "Component 2\n",
      "12231    Lost in Translation\n",
      "Name: Name, dtype: object: 213.66098438916546\n",
      "12581    Mystic River\n",
      "Name: Name, dtype: object: 204.71070783498166\n",
      "11606    Hotel Rwanda\n",
      "Name: Name, dtype: object: 191.2980281316191\n",
      "1904    Pirates of the Caribbean: The Curse of the Bla...\n",
      "Name: Name, dtype: object: 179.8187922295054\n",
      "3281    Sideways\n",
      "Name: Name, dtype: object: 179.47528558820179\n",
      "885    Ray\n",
      "Name: Name, dtype: object: 178.26731931101523\n",
      "1864    Eternal Sunshine of the Spotless Mind\n",
      "Name: Name, dtype: object: 175.25739256247746\n",
      "14102    The Notebook\n",
      "Name: Name, dtype: object: 173.18465899199342\n",
      "11811    Million Dollar Baby\n",
      "Name: Name, dtype: object: 172.1295748355337\n",
      " \n",
      "Component 3\n",
      "4576    Steel Magnolias\n",
      "Name: Name, dtype: object: 192.91997573797377\n",
      "14453    Kill Bill: Vol. 1\n",
      "Name: Name, dtype: object: -174.36307187367925\n",
      "7616    Dirty Dancing\n",
      "Name: Name, dtype: object: 166.66991921388964\n",
      "1143    Fried Green Tomatoes\n",
      "Name: Name, dtype: object: 162.2311717954198\n",
      "1541    Sleepless in Seattle\n",
      "Name: Name, dtype: object: 159.6230949095578\n",
      "456    Kill Bill: Vol. 2\n",
      "Name: Name, dtype: object: -158.73162670492863\n",
      "5925    Fight Club\n",
      "Name: Name, dtype: object: -153.95462974462828\n",
      "9616    Stepmom\n",
      "Name: Name, dtype: object: 152.69026764375707\n",
      "10358    Runaway Bride\n",
      "Name: Name, dtype: object: 148.12607079377742\n",
      " \n",
      "Component 4\n",
      "14312    The Patriot\n",
      "Name: Name, dtype: object: 230.33885092090077\n",
      "12316    The Rock\n",
      "Name: Name, dtype: object: 205.40410491069917\n",
      "14366    Lethal Weapon 4\n",
      "Name: Name, dtype: object: 193.64233272421433\n",
      "16383    The Fugitive\n",
      "Name: Name, dtype: object: 193.37272013224722\n",
      "13650    Air Force One\n",
      "Name: Name, dtype: object: 189.0463645150958\n",
      "7233    Men of Honor\n",
      "Name: Name, dtype: object: 187.13628850269737\n",
      "15123    Independence Day\n",
      "Name: Name, dtype: object: 186.6767936538405\n",
      "16376    The Green Mile\n",
      "Name: Name, dtype: object: 186.5817584958683\n",
      "16127    Clear and Present Danger\n",
      "Name: Name, dtype: object: 184.18418942076724\n",
      " \n"
     ]
    }
   ],
   "source": [
    "for i in range(0,n_components):\n",
    "    Z_sort = np.argsort(np.abs(Z[:,i]))\n",
    "    print('Component ' + str(i))\n",
    "    for j in range(1,10):\n",
    "        movie_index = Z_sort[-j]\n",
    "        movie_title = movie_titles[movie_titles['ID'] == movie_index]['Name']\n",
    "        movie_weight = Z[movie_index,i]\n",
    "        print(str(movie_title) + ': ' + str(movie_weight))\n",
    "    print(' ')"
   ]
  },
  {
   "cell_type": "code",
   "execution_count": 12,
   "metadata": {
    "collapsed": false,
    "deletable": true,
    "editable": true
   },
   "outputs": [
    {
     "data": {
      "text/plain": [
       "array([3268.33614216,  439.09618756,  290.66973813,  244.96436827,\n",
       "        183.39048866])"
      ]
     },
     "execution_count": 12,
     "metadata": {},
     "output_type": "execute_result"
    }
   ],
   "source": [
    "svd.explained_variance_"
   ]
  },
  {
   "cell_type": "code",
   "execution_count": 23,
   "metadata": {
    "collapsed": false
   },
   "outputs": [],
   "source": [
    "ratings_small = non_zero_users_csc"
   ]
  },
  {
   "cell_type": "code",
   "execution_count": 71,
   "metadata": {
    "collapsed": false
   },
   "outputs": [
    {
     "name": "stdout",
     "output_type": "stream",
     "text": [
      "Movie #1, 0    Dinosaur Planet\n",
      "Name: Name, dtype: object, average rating: 3.75 in 547 reviews\n",
      "X_train : (437, 17770) \tX_test : (110, 17770) \ty_train : (437, 1) \ty_test : (110, 1) \t\n",
      "Variance score: -0.00\n",
      "finished regression in 1.94 seconds\n",
      "Movie #2, 1    Isle of Man TT 2004 Review\n",
      "Name: Name, dtype: object, average rating: 3.56 in 145 reviews\n",
      "X_train : (116, 17770) \tX_test : (29, 17770) \ty_train : (116, 1) \ty_test : (29, 1) \t\n",
      "Variance score: 0.11\n",
      "finished regression in 0.63 seconds\n",
      "Movie #3, 2    Character\n",
      "Name: Name, dtype: object, average rating: 3.64 in 2012 reviews\n",
      "X_train : (1609, 17770) \tX_test : (403, 17770) \ty_train : (1609, 1) \ty_test : (403, 1) \t\n",
      "Variance score: -0.88\n",
      "finished regression in 17.76 seconds\n"
     ]
    }
   ],
   "source": [
    "movie_results_dict = {}\n",
    "for id in range(1, 4):\n",
    "    movie_id = id\n",
    "    num_reviews = ratings_small[:,movie_id].count_nonzero()\n",
    "    movie_name = movie_titles[movie_titles['ID'] == movie_id]['Name']\n",
    "    print 'Movie #%s, %s, average rating: %.2f in %i reviews' % (\n",
    "        movie_id,\n",
    "        movie_name,\n",
    "        np.sum(ratings_small[:,movie_id]) / num_reviews,\n",
    "        int(num_reviews)\n",
    "    )\n",
    "\n",
    "    start = time.time()\n",
    "    filter_by = np.ravel((ratings_small[:,movie_id] != 0.0).toarray())\n",
    "    filtered_ratings = ratings_small[filter_by,:]\n",
    "\n",
    "    movie_mask = np.ravel(np.full((filtered_ratings.shape[1], 1), True))\n",
    "    movie_mask[movie_id] = False\n",
    "    X = filtered_ratings[:,movie_mask]\n",
    "    y = filtered_ratings[:,movie_id]\n",
    "\n",
    "    X_train, X_test, y_train, y_test = train_test_split(X.toarray(), y.toarray(), test_size=0.2)\n",
    "    finish = time.time()\n",
    "    data_time = (finish - start)\n",
    "    #print 'finished choosing data in %.2f seconds' % data\n",
    "    for i, name in zip([X_train, X_test, y_train, y_test], ['X_train', 'X_test', 'y_train', 'y_test']):\n",
    "        print name, ':', i.shape, '\\t',\n",
    "    print\n",
    "\n",
    "    # Run the regression on the film\n",
    "    start = time.time()\n",
    "    regr = LinearRegression()\n",
    "    regr.fit(X_train, y_train)\n",
    "\n",
    "    y_pred = regr.predict(X_test)\n",
    "\n",
    "    #print 'Coefficients: \\n', regr.coef_\n",
    "    #print \"Mean squared error: %.2f\" % mean_squared_error(y_test, y_pred)\n",
    "    print 'Variance score: %.2f' % r2_score(y_test, y_pred)\n",
    "    finish = time.time()\n",
    "    regr_time = finish - start\n",
    "    print 'finished regression in %.2f seconds' % regr_time\n",
    "    movie_results_dict[id] = {\n",
    "        'name': str(movie_titles[movie_titles['ID'] == movie_id]['Name']),\n",
    "        'regr_time': regr_time,\n",
    "        'data_time': data_time,\n",
    "        'regr': regr,\n",
    "        'mse': mean_squared_error(y_test, y_pred),\n",
    "        'r2': r2_score(y_test, y_pred)\n",
    "    }"
   ]
  },
  {
   "cell_type": "code",
   "execution_count": 74,
   "metadata": {
    "collapsed": false
   },
   "outputs": [
    {
     "data": {
      "text/plain": [
       "{'data_time': 0.9145989418029785,\n",
       " 'mse': 1.4984351875293063,\n",
       " 'name': '2    Character\\nName: Name, dtype: object',\n",
       " 'r2': -0.8808786113140292,\n",
       " 'regr': LinearRegression(copy_X=True, fit_intercept=True, n_jobs=1, normalize=False),\n",
       " 'regr_time': 17.756766080856323}"
      ]
     },
     "execution_count": 74,
     "metadata": {},
     "output_type": "execute_result"
    }
   ],
   "source": [
    "movie_results_dict[3]"
   ]
  },
  {
   "cell_type": "code",
   "execution_count": 122,
   "metadata": {
    "collapsed": false
   },
   "outputs": [
    {
     "name": "stderr",
     "output_type": "stream",
     "text": [
      "/usr/local/lib/python2.7/site-packages/ipykernel/__main__.py:4: RuntimeWarning: invalid value encountered in divide\n"
     ]
    }
   ],
   "source": [
    "review_nums = []\n",
    "for i in range(17700):\n",
    "    num_reviews = ratings_small[:,i].count_nonzero()\n",
    "    review_nums.append((i, num_reviews, np.sum(ratings_small[:,i]) / num_reviews))"
   ]
  },
  {
   "cell_type": "code",
   "execution_count": 125,
   "metadata": {
    "collapsed": false
   },
   "outputs": [
    {
     "name": "stdout",
     "output_type": "stream",
     "text": [
      "681\t4.538913362701909\tFruits Basket (2001)\n",
      "17292\t4.542563034929447\tThe Simpsons: Season 5 (1993)\n",
      "92470\t4.543700659673408\tStar Wars: Episode V: The Empire Strikes Back (1980)\n",
      "134284\t4.5451207887760265\tLord of the Rings: The Return of the King (2003)\n",
      "125\t4.552\tLord of the Rings: The Return of the King: Extended Edition: Bonus Material (2003)\n",
      "1883\t4.554434413170473\tInu-Yasha (2000)\n",
      "8426\t4.581295988606693\tThe Simpsons: Season 6 (1994)\n",
      "6621\t4.582389367165081\tArrested Development: Season 2 (2004)\n",
      "220\t4.586363636363636\tGhost in the Shell: Stand Alone Complex: 2nd Gig (2005)\n",
      "1238\t4.592084006462035\tVeronica Mars: Season 1 (2004)\n",
      "139660\t4.593383932407275\tThe Shawshank Redemption: Special Edition (1994)\n",
      "89\t4.595505617977528\tTenchi Muyo! Ryo Ohki (1995)\n",
      "25\t4.6\tTrailer Park Boys: Season 4 (2003)\n",
      "75\t4.6\tTrailer Park Boys: Season 3 (2003)\n",
      "1633\t4.605021432945499\tFullmetal Alchemist (2004)\n",
      "1747\t4.638809387521466\tBattlestar Galactica: Season 1 (2004)\n",
      "7249\t4.6709891019450955\tLost: Season 1 (2004)\n",
      "74912\t4.702611063648014\tLord of the Rings: The Two Towers: Extended Edition (2002)\n",
      "73422\t4.716610825093296\tThe Lord of the Rings: The Fellowship of the Ring: Extended Edition (2001)\n",
      "73335\t4.723269925683507\tLord of the Rings: The Return of the King: Extended Edition (2003)\n"
     ]
    }
   ],
   "source": [
    "s = sorted(review_nums, key=lambda x: x[2])\n",
    "for movie_id, num, avg_review in s[-20:]:\n",
    "    print '%s\\t%s\\t%s' % (num, avg_review, movie_by_id[movie_id])"
   ]
  },
  {
   "cell_type": "code",
   "execution_count": null,
   "metadata": {
    "collapsed": true
   },
   "outputs": [],
   "source": []
  }
 ],
 "metadata": {
  "kernelspec": {
   "display_name": "Python 2",
   "language": "python",
   "name": "python2"
  },
  "language_info": {
   "codemirror_mode": {
    "name": "ipython",
    "version": 2
   },
   "file_extension": ".py",
   "mimetype": "text/x-python",
   "name": "python",
   "nbconvert_exporter": "python",
   "pygments_lexer": "ipython2",
   "version": "2.7.13"
  }
 },
 "nbformat": 4,
 "nbformat_minor": 2
}
