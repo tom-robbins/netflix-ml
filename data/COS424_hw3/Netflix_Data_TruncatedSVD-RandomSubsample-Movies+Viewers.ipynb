{
 "cells": [
  {
   "cell_type": "markdown",
   "metadata": {
    "deletable": true,
    "editable": true
   },
   "source": [
    "# HW3: Netflix Data Analysis"
   ]
  },
  {
   "cell_type": "markdown",
   "metadata": {
    "deletable": true,
    "editable": true
   },
   "source": [
    "In this homework assignment, you will analyze the netflix prize data. The data consist of 100,480,50 movie ratings on a scale from 0 to 5 stars. The reveiws are distributed across 17,770 movies and 480,189. We have provided the training data as a sparse matrix where the row corresponds to the movie ID and the column corresponds to the user ID. A seperate file contains the title and year of release for each movie. The original, raw data consists of multiple lists of tuples; each list is a seperate movie and each tuple is User ID, Rating, and Rating Year. \n",
    "The original data can be downloaded here: https://archive.org/download/nf_prize_dataset.tar\n",
    "Further information about the netflix prize is available online: \n",
    "https://en.wikipedia.org/wiki/Netflix_Prize\n",
    "https://www.netflixprize.com/"
   ]
  },
  {
   "cell_type": "code",
   "execution_count": 44,
   "metadata": {
    "collapsed": true,
    "deletable": true,
    "editable": true
   },
   "outputs": [],
   "source": [
    "import numpy as np\n",
    "import pandas as pd\n",
    "from scipy.sparse import csr_matrix\n",
    "import scipy.sparse\n",
    "from sklearn import metrics\n",
    "from sklearn.decomposition import TruncatedSVD\n",
    "from sklearn.cluster import KMeans, MiniBatchKMeans\n"
   ]
  },
  {
   "cell_type": "code",
   "execution_count": 28,
   "metadata": {
    "collapsed": false,
    "deletable": true,
    "editable": true
   },
   "outputs": [
    {
     "name": "stdout",
     "output_type": "stream",
     "text": [
      "   ID    Year                          Name\n",
      "0   1  2003.0               Dinosaur Planet\n",
      "1   2  2004.0    Isle of Man TT 2004 Review\n",
      "2   3  1997.0                     Character\n",
      "3   4  1994.0  Paula Abdul's Get Up & Dance\n",
      "4   5  2004.0      The Rise and Fall of ECW\n",
      "(17770, 3)\n"
     ]
    }
   ],
   "source": [
    "# This file consists of titles and release years associated with each ID\n",
    "movie_titles = pd.read_csv('movie_titles.txt', header = None, names = ['ID','Year','Name'])\n",
    "print(movie_titles.head())\n",
    "print(movie_titles.shape)"
   ]
  },
  {
   "cell_type": "code",
   "execution_count": 3,
   "metadata": {
    "collapsed": false,
    "deletable": true,
    "editable": true
   },
   "outputs": [
    {
     "name": "stdout",
     "output_type": "stream",
     "text": [
      "(17771, 2649430)\n"
     ]
    }
   ],
   "source": [
    "# This file is a sparse matrix of movies by user, with each element a rating (1-5) or nonresponse (0)\n",
    "ratings_csr = scipy.sparse.load_npz('netflix_full_csr.npz')\n",
    "print(ratings_csr.shape)"
   ]
  },
  {
   "cell_type": "markdown",
   "metadata": {
    "deletable": true,
    "editable": true
   },
   "source": [
    "To avoid memory overflow errors we have randomly subsampled the data. Some computers can handle the full dataset (e.g. 2017 Macbook Pro can perform SVD on the full dataset). Older computers likely need to subsample the data. You can consider using Princeton computing resources and clusters to perform more computationally expensive analysis."
   ]
  },
  {
   "cell_type": "code",
   "execution_count": 4,
   "metadata": {
    "collapsed": false,
    "deletable": true,
    "editable": true
   },
   "outputs": [],
   "source": [
    "#n_samples = 5000\n",
    "n_viewers = 10000\n",
    "#random_sample_movies = np.random.choice(17771, size = n_samples)\n",
    "random_sample_viewers = np.random.choice(2649430, size = n_viewers)\n",
    "ratings_small = ratings_csr[:,random_sample_viewers]"
   ]
  },
  {
   "cell_type": "code",
   "execution_count": 38,
   "metadata": {
    "collapsed": false,
    "deletable": true,
    "editable": true
   },
   "outputs": [
    {
     "data": {
      "text/plain": [
       "(17771, 10000)"
      ]
     },
     "execution_count": 38,
     "metadata": {},
     "output_type": "execute_result"
    }
   ],
   "source": [
    "ratings_small.shape\n"
   ]
  },
  {
   "cell_type": "markdown",
   "metadata": {
    "deletable": true,
    "editable": true
   },
   "source": [
    "A common methods for analyzing large datasets is dimension reduction. Here we perform a truncated SVD suited for sparse datasets and analyze which movies are associated with different latent dimensions"
   ]
  },
  {
   "cell_type": "code",
   "execution_count": 6,
   "metadata": {
    "collapsed": false,
    "deletable": true,
    "editable": true
   },
   "outputs": [],
   "source": [
    "from sklearn.decomposition import TruncatedSVD"
   ]
  },
  {
   "cell_type": "code",
   "execution_count": 76,
   "metadata": {
    "collapsed": true,
    "deletable": true,
    "editable": true
   },
   "outputs": [],
   "source": [
    "n_components = 5\n",
    "svd = TruncatedSVD(n_components = n_components)"
   ]
  },
  {
   "cell_type": "code",
   "execution_count": 77,
   "metadata": {
    "collapsed": false,
    "deletable": true,
    "editable": true
   },
   "outputs": [],
   "source": [
    "Z = svd.fit_transform(ratings_small)"
   ]
  },
  {
   "cell_type": "code",
   "execution_count": 78,
   "metadata": {
    "collapsed": true,
    "deletable": true,
    "editable": true
   },
   "outputs": [],
   "source": [
    "components = svd.components_"
   ]
  },
  {
   "cell_type": "code",
   "execution_count": 61,
   "metadata": {
    "collapsed": false,
    "deletable": true,
    "editable": true
   },
   "outputs": [
    {
     "name": "stdout",
     "output_type": "stream",
     "text": [
      "[0.22393838 0.03198849 0.02131863 0.01907654 0.01460467 0.01018762\n",
      " 0.01034069 0.00751837 0.00695364 0.00632032]\n"
     ]
    }
   ],
   "source": [
    "print(svd.explained_variance_ratio_)"
   ]
  },
  {
   "cell_type": "code",
   "execution_count": 79,
   "metadata": {
    "collapsed": false,
    "deletable": true,
    "editable": true,
    "scrolled": true
   },
   "outputs": [
    {
     "name": "stdout",
     "output_type": "stream",
     "text": [
      "Component 0\n",
      "11282    Forrest Gump\n",
      "Name: Name, dtype: object: 88.68420397956177\n",
      "1904    Pirates of the Caribbean: The Curse of the Bla...\n",
      "Name: Name, dtype: object: 88.47268211312237\n",
      "14549    The Shawshank Redemption: Special Edition\n",
      "Name: Name, dtype: object: 86.2505252966183\n",
      "16376    The Green Mile\n",
      "Name: Name, dtype: object: 83.72260873929498\n",
      "4305    The Sixth Sense\n",
      "Name: Name, dtype: object: 82.45326222018026\n",
      "2451    Lord of the Rings: The Fellowship of the Ring\n",
      "Name: Name, dtype: object: 80.6694396742571\n",
      "15123    Independence Day\n",
      "Name: Name, dtype: object: 80.28584134349208\n",
      "11520    Lord of the Rings: The Two Towers\n",
      "Name: Name, dtype: object: 80.18793303418474\n",
      "14690    The Matrix\n",
      "Name: Name, dtype: object: 76.97298653160429\n",
      " \n",
      "Component 1\n",
      "5316    Miss Congeniality\n",
      "Name: Name, dtype: object: 33.14044785539319\n",
      "9339    Pearl Harbor\n",
      "Name: Name, dtype: object: 32.086210934873\n",
      "6971    Armageddon\n",
      "Name: Name, dtype: object: 30.990235609518397\n",
      "14537    How to Lose a Guy in 10 Days\n",
      "Name: Name, dtype: object: 30.34285786784219\n",
      "10450    A Clockwork Orange\n",
      "Name: Name, dtype: object: -30.324995427302543\n",
      "2121    Being John Malkovich\n",
      "Name: Name, dtype: object: -30.13490122781752\n",
      "5225    Rushmore\n",
      "Name: Name, dtype: object: -29.840140414874536\n",
      "174    Reservoir Dogs\n",
      "Name: Name, dtype: object: -29.812982584063136\n",
      "10773    Taxi Driver\n",
      "Name: Name, dtype: object: -29.551451384918597\n",
      " \n",
      "Component 2\n",
      "12581    Mystic River\n",
      "Name: Name, dtype: object: 33.266822090273806\n",
      "12231    Lost in Translation\n",
      "Name: Name, dtype: object: 30.228681862953472\n",
      "11606    Hotel Rwanda\n",
      "Name: Name, dtype: object: 28.89543368256437\n",
      "1904    Pirates of the Caribbean: The Curse of the Bla...\n",
      "Name: Name, dtype: object: 27.97278011188983\n",
      "11811    Million Dollar Baby\n",
      "Name: Name, dtype: object: 27.612946841692196\n",
      "3281    Sideways\n",
      "Name: Name, dtype: object: 26.24827643772317\n",
      "1864    Eternal Sunshine of the Spotless Mind\n",
      "Name: Name, dtype: object: 25.82611379458572\n",
      "5861    Memento\n",
      "Name: Name, dtype: object: 25.426619926404946\n",
      "6133    Collateral\n",
      "Name: Name, dtype: object: 25.283634044702914\n",
      " \n",
      "Component 3\n",
      "4576    Steel Magnolias\n",
      "Name: Name, dtype: object: 28.047326082296014\n",
      "1143    Fried Green Tomatoes\n",
      "Name: Name, dtype: object: 24.715990430072324\n",
      "7616    Dirty Dancing\n",
      "Name: Name, dtype: object: 24.482817852031022\n",
      "9616    Stepmom\n",
      "Name: Name, dtype: object: 24.048907449700554\n",
      "16264    Star Wars: Episode IV: A New Hope\n",
      "Name: Name, dtype: object: -22.832554754091763\n",
      "6286    Pretty Woman\n",
      "Name: Name, dtype: object: 22.570131983127233\n",
      "5581    Star Wars: Episode V: The Empire Strikes Back\n",
      "Name: Name, dtype: object: -22.52624221826535\n",
      "14102    The Notebook\n",
      "Name: Name, dtype: object: 22.001594737743112\n",
      "1541    Sleepless in Seattle\n",
      "Name: Name, dtype: object: 21.895743692964107\n",
      " \n",
      "Component 4\n",
      "16127    Clear and Present Danger\n",
      "Name: Name, dtype: object: 22.761779879463656\n",
      "13650    Air Force One\n",
      "Name: Name, dtype: object: 22.167310974777514\n",
      "14312    The Patriot\n",
      "Name: Name, dtype: object: 21.987296455665177\n",
      "3150    Napoleon Dynamite\n",
      "Name: Name, dtype: object: -21.557647897042525\n",
      "16706    Old School\n",
      "Name: Name, dtype: object: -21.31027493027132\n",
      "13613    Office Space\n",
      "Name: Name, dtype: object: -20.940388872241623\n",
      "6273    The Hunt for Red October\n",
      "Name: Name, dtype: object: 19.321225744407496\n",
      "3916    Garden State\n",
      "Name: Name, dtype: object: -19.023255389757043\n",
      "757    Mean Girls\n",
      "Name: Name, dtype: object: -18.980604039492594\n",
      " \n"
     ]
    }
   ],
   "source": [
    "for i in range(0,n_components):\n",
    "    Z_sort = np.argsort(np.abs(Z[:,i]))\n",
    "    print('Component ' + str(i))\n",
    "    for j in range(1,10):\n",
    "        movie_index = Z_sort[-j]\n",
    "        movie_title = movie_titles[movie_titles['ID'] == movie_index]['Name']\n",
    "        movie_weight = Z[movie_index,i]\n",
    "        print(str(movie_title) + ': ' + str(movie_weight))\n",
    "    print(' ')"
   ]
  },
  {
   "cell_type": "code",
   "execution_count": 84,
   "metadata": {
    "collapsed": false,
    "deletable": true,
    "editable": true
   },
   "outputs": [
    {
     "data": {
      "text/plain": [
       "array([67.65818843,  9.66463672,  6.44097229,  5.76357164,  4.41248925])"
      ]
     },
     "execution_count": 84,
     "metadata": {},
     "output_type": "execute_result"
    }
   ],
   "source": [
    "svd.explained_variance_"
   ]
  },
  {
   "cell_type": "code",
   "execution_count": null,
   "metadata": {
    "collapsed": true
   },
   "outputs": [],
   "source": []
  }
 ],
 "metadata": {
  "kernelspec": {
   "display_name": "Python 2",
   "language": "python",
   "name": "python2"
  },
  "language_info": {
   "codemirror_mode": {
    "name": "ipython",
    "version": 2
   },
   "file_extension": ".py",
   "mimetype": "text/x-python",
   "name": "python",
   "nbconvert_exporter": "python",
   "pygments_lexer": "ipython2",
   "version": "2.7.13"
  }
 },
 "nbformat": 4,
 "nbformat_minor": 2
}
