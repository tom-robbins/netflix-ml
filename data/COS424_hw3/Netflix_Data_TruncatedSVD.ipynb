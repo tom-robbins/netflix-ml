{
 "cells": [
  {
   "cell_type": "markdown",
   "metadata": {},
   "source": [
    "# HW3: Netflix Data Analysis"
   ]
  },
  {
   "cell_type": "markdown",
   "metadata": {},
   "source": [
    "In this homework assignment, you will analyze the netflix prize data. The data consist of 100,480,50 movie ratings on a scale from 0 to 5 stars. The reviews are distributed across 17,770 movies and 480,189. We have provided the training data as a sparse matrix where the row corresponds to the movie ID and the column corresponds to the user ID. A seperate file contains the title and year of release for each movie. The original, raw data consists of multiple lists of tuples; each list is a seperate movie and each tuple is User ID, Rating, and Rating Year. \n",
    "The original data can be downloaded here: https://archive.org/download/nf_prize_dataset.tar\n",
    "Further information about the netflix prize is available online: \n",
    "https://en.wikipedia.org/wiki/Netflix_Prize\n",
    "https://www.netflixprize.com/"
   ]
  },
  {
   "cell_type": "code",
   "execution_count": 2,
   "metadata": {
    "collapsed": true
   },
   "outputs": [],
   "source": [
    "import numpy as np\n",
    "import pandas as pd\n",
    "from scipy.sparse import csr_matrix\n",
    "import scipy.sparse\n",
    "from sklearn import metrics\n",
    "from sklearn.decomposition import TruncatedSVD\n",
    "from sklearn.cluster import KMeans, MiniBatchKMeans\n"
   ]
  },
  {
   "cell_type": "code",
   "execution_count": 3,
   "metadata": {},
   "outputs": [
    {
     "name": "stdout",
     "output_type": "stream",
     "text": [
      "   ID    Year                          Name\n",
      "0   1  2003.0               Dinosaur Planet\n",
      "1   2  2004.0    Isle of Man TT 2004 Review\n",
      "2   3  1997.0                     Character\n",
      "3   4  1994.0  Paula Abdul's Get Up & Dance\n",
      "4   5  2004.0      The Rise and Fall of ECW\n",
      "(17770, 3)\n"
     ]
    }
   ],
   "source": [
    "# This file consists of titles and release years associated with each ID\n",
    "movie_titles = pd.read_csv('movie_titles.txt', header = None, names = ['ID','Year','Name'], encoding=\"latin-1\")\n",
    "print(movie_titles.head())\n",
    "print(movie_titles.shape)"
   ]
  },
  {
   "cell_type": "code",
   "execution_count": 4,
   "metadata": {},
   "outputs": [
    {
     "name": "stdout",
     "output_type": "stream",
     "text": [
      "(17771, 2649430)\n"
     ]
    }
   ],
   "source": [
    "# This file is a sparse matrix of movies by user, with each element a rating (1-5) or nonresponse (0)\n",
    "ratings_csr = scipy.sparse.load_npz('netflix_full_csr.npz')\n",
    "print(ratings_csr.shape)"
   ]
  },
  {
   "cell_type": "markdown",
   "metadata": {},
   "source": [
    "To avoid memory overflow errors we have randomly subsampled the data. Some computers can handle the full dataset (e.g. 2017 Macbook Pro can perform SVD on the full dataset). Older computers likely need to subsample the data. You can consider using Princeton computing resources and clusters to perform more computationally expensive analysis."
   ]
  },
  {
   "cell_type": "code",
   "execution_count": 15,
   "metadata": {},
   "outputs": [
    {
     "name": "stdout",
     "output_type": "stream",
     "text": [
      "(17771, 10000)\n"
     ]
    }
   ],
   "source": [
    "#n_samples = 5000\n",
    "n_viewers = 10000\n",
    "#random_sample_movies = np.random.choice(17771, size = n_samples)\n",
    "random_sample_viewers = np.random.choice(2649430, size = n_viewers)\n",
    "ratings_small = ratings_csr[:,random_sample_viewers]\n",
    "print(ratings_small.shape)"
   ]
  },
  {
   "cell_type": "markdown",
   "metadata": {},
   "source": [
    "We will perform some exploratory data analysis to get a sense for how the distribution of reviews and general views looks for across both users and movies.\n"
   ]
  },
  {
   "cell_type": "code",
   "execution_count": 49,
   "metadata": {},
   "outputs": [],
   "source": [
    "import matplotlib.pyplot as plt\n",
    "\n",
    "movie_1 = []\n",
    "movie_2 = []\n",
    "movie_3 = []\n",
    "movie_4 = []\n",
    "movie_5 = []\n",
    "\n",
    "\n",
    "for i in range(0, ratings_small.shape[0]):\n",
    "    reviews = ratings_small[i,:].toarray()[0]\n",
    "    unique, counts = np.unique(reviews, return_counts=True)\n",
    "    if np.any(unique == 1):\n",
    "        movie_1.append(counts[np.where(unique ==1)][0])\n",
    "    else:\n",
    "        movie_1.append(0)\n",
    "    if np.any(unique == 2):\n",
    "        movie_2.append(counts[np.where(unique ==2)][0])\n",
    "    else:\n",
    "        movie_2.append(0)\n",
    "    if np.any(unique == 3):\n",
    "        movie_3.append(counts[np.where(unique ==3)][0])\n",
    "    else:\n",
    "        movie_3.append(0)\n",
    "    if np.any(unique == 4):\n",
    "        movie_4.append(counts[np.where(unique ==4)][0])\n",
    "    else:\n",
    "        movie_4.append(0)\n",
    "    if np.any(unique == 5):\n",
    "        movie_5.append(counts[np.where(unique ==5)][0]) \n",
    "    else:\n",
    "        movie_5.append(0)\n",
    "        \n",
    "movie_1 = np.array(movie_1)\n",
    "movie_2 = np.array(movie_2)\n",
    "movie_3 = np.array(movie_3)\n",
    "movie_4 = np.array(movie_4)\n",
    "movie_5 = np.array(movie_5)\n",
    "total_reviews = movie_1 +  movie_2 + movie_3 + movie_4 + movie_5"
   ]
  },
  {
   "cell_type": "code",
   "execution_count": 76,
   "metadata": {},
   "outputs": [
    {
     "data": {
      "image/png": "[encoded data removed]",
      "text/plain": [
       "<matplotlib.figure.Figure at 0x1a53445e48>"
      ]
     },
     "metadata": {},
     "output_type": "display_data"
    }
   ],
   "source": [
    "plt.hist(total_reviews, bins=100)  # arguments are passed to np.histogram\n",
    "plt.title(\"Number of reviews per movie\")\n",
    "plt.ylabel(\"Number of movies\")\n",
    "plt.xlabel(\"Number of reviews\")\n",
    "plt.xlim(0, np.max(movie_reviews)+1)\n",
    "plt.ylim(0, 3000)\n",
    "plt.show()"
   ]
  },
  {
   "cell_type": "code",
   "execution_count": 85,
   "metadata": {},
   "outputs": [
    {
     "name": "stderr",
     "output_type": "stream",
     "text": [
      "/Users/Cat/anaconda3/lib/python3.6/site-packages/ipykernel_launcher.py:2: RuntimeWarning: invalid value encountered in true_divide\n",
      "  \n"
     ]
    },
    {
     "name": "stdout",
     "output_type": "stream",
     "text": [
      "[ 0.          0.          0.         ...,  2.33333333  2.74193548  3.5       ]\n"
     ]
    },
    {
     "data": {
      "image/png": "[encoded data removed]",
      "text/plain": [
       "<matplotlib.figure.Figure at 0x1a4a760588>"
      ]
     },
     "metadata": {},
     "output_type": "display_data"
    }
   ],
   "source": [
    "review_sum = movie_1 +  (2*movie_2) + (3*movie_3) + (4*movie_4) + (5* movie_5)\n",
    "avg_review = review_sum / total_reviews\n",
    "avg_review = np.nan_to_num(avg_review)\n",
    "print(avg_review)\n",
    "plt.hist(avg_review, bins=20)  # arguments are passed to np.histogram\n",
    "plt.title(\"Average reviews across all movies\")\n",
    "plt.ylabel(\"Number of movies\")\n",
    "plt.xlabel(\"Average review\")\n",
    "plt.xlim(.75, 5.1)\n",
    "plt.ylim(0, 2500)\n",
    "plt.show()"
   ]
  },
  {
   "cell_type": "markdown",
   "metadata": {},
   "source": [
    "A common methods for analyzing large datasets is dimension reduction. Here we perform a truncated SVD suited for sparse datasets and analyze which movies are associated with different latent dimensions"
   ]
  },
  {
   "cell_type": "code",
   "execution_count": 78,
   "metadata": {
    "collapsed": true
   },
   "outputs": [],
   "source": [
    "from sklearn.decomposition import TruncatedSVD"
   ]
  },
  {
   "cell_type": "code",
   "execution_count": 79,
   "metadata": {
    "collapsed": true
   },
   "outputs": [],
   "source": [
    "n_components = 5\n",
    "svd = TruncatedSVD(n_components = n_components)"
   ]
  },
  {
   "cell_type": "code",
   "execution_count": 80,
   "metadata": {
    "collapsed": true
   },
   "outputs": [],
   "source": [
    "Z = svd.fit_transform(ratings_small)"
   ]
  },
  {
   "cell_type": "code",
   "execution_count": 81,
   "metadata": {
    "collapsed": true
   },
   "outputs": [],
   "source": [
    "components = svd.components_"
   ]
  },
  {
   "cell_type": "code",
   "execution_count": 82,
   "metadata": {},
   "outputs": [
    {
     "name": "stdout",
     "output_type": "stream",
     "text": [
      "[ 0.22944731  0.02826338  0.02358565  0.01780093  0.01493732]\n"
     ]
    }
   ],
   "source": [
    "print(svd.explained_variance_ratio_)"
   ]
  },
  {
   "cell_type": "code",
   "execution_count": 83,
   "metadata": {
    "scrolled": true
   },
   "outputs": [
    {
     "name": "stdout",
     "output_type": "stream",
     "text": [
      "Component 0\n",
      "1904    Pirates of the Caribbean: The Curse of the Bla...\n",
      "Name: Name, dtype: object: 90.7425\n",
      "11282    Forrest Gump\n",
      "Name: Name, dtype: object: 89.8453\n",
      "2451    Lord of the Rings: The Fellowship of the Ring\n",
      "Name: Name, dtype: object: 82.144\n",
      "11520    Lord of the Rings: The Two Towers\n",
      "Name: Name, dtype: object: 82.0882\n",
      "4305    The Sixth Sense\n",
      "Name: Name, dtype: object: 81.6371\n",
      "16376    The Green Mile\n",
      "Name: Name, dtype: object: 81.053\n",
      "14549    The Shawshank Redemption: Special Edition\n",
      "Name: Name, dtype: object: 80.8419\n",
      "14690    The Matrix\n",
      "Name: Name, dtype: object: 77.748\n",
      "15123    Independence Day\n",
      "Name: Name, dtype: object: 77.2635\n",
      " \n",
      "Component 1\n",
      "4995    Gone in 60 Seconds\n",
      "Name: Name, dtype: object: 32.976\n",
      "5316    Miss Congeniality\n",
      "Name: Name, dtype: object: 32.068\n",
      "15204    The Day After Tomorrow\n",
      "Name: Name, dtype: object: 30.3339\n",
      "6971    Armageddon\n",
      "Name: Name, dtype: object: 30.2564\n",
      "12671    John Q\n",
      "Name: Name, dtype: object: 29.3686\n",
      "9339    Pearl Harbor\n",
      "Name: Name, dtype: object: 28.9763\n",
      "15581    Sweet Home Alabama\n",
      "Name: Name, dtype: object: 28.4595\n",
      "6028    Amelie\n",
      "Name: Name, dtype: object: -27.5532\n",
      "12469    Twister\n",
      "Name: Name, dtype: object: 27.5406\n",
      " \n",
      "Component 2\n",
      "12231    Lost in Translation\n",
      "Name: Name, dtype: object: 30.483\n",
      "570    American Beauty\n",
      "Name: Name, dtype: object: 29.031\n",
      "3281    Sideways\n",
      "Name: Name, dtype: object: 28.061\n",
      "1864    Eternal Sunshine of the Spotless Mind\n",
      "Name: Name, dtype: object: 27.0613\n",
      "14549    The Shawshank Redemption: Special Edition\n",
      "Name: Name, dtype: object: 26.5773\n",
      "11606    Hotel Rwanda\n",
      "Name: Name, dtype: object: 26.121\n",
      "5861    Memento\n",
      "Name: Name, dtype: object: 25.9505\n",
      "8781    The Royal Tenenbaums\n",
      "Name: Name, dtype: object: 25.4217\n",
      "3916    Garden State\n",
      "Name: Name, dtype: object: 25.3409\n",
      " \n",
      "Component 3\n",
      "5925    Fight Club\n",
      "Name: Name, dtype: object: 27.2979\n",
      "6286    Pretty Woman\n",
      "Name: Name, dtype: object: -24.749\n",
      "4576    Steel Magnolias\n",
      "Name: Name, dtype: object: -24.3816\n",
      "7616    Dirty Dancing\n",
      "Name: Name, dtype: object: -22.6601\n",
      "14453    Kill Bill: Vol. 1\n",
      "Name: Name, dtype: object: 21.6587\n",
      "174    Reservoir Dogs\n",
      "Name: Name, dtype: object: 21.4798\n",
      "13613    Office Space\n",
      "Name: Name, dtype: object: 21.1225\n",
      "10358    Runaway Bride\n",
      "Name: Name, dtype: object: -20.9849\n",
      "15581    Sweet Home Alabama\n",
      "Name: Name, dtype: object: -20.776\n",
      " \n",
      "Component 4\n",
      "7233    Men of Honor\n",
      "Name: Name, dtype: object: 24.3866\n",
      "5495    I\n",
      "Name: Name, dtype: object: 22.0498\n",
      "1219    Man on Fire\n",
      "Name: Name, dtype: object: 21.578\n",
      "13581    Never Been Kissed\n",
      "Name: Name, dtype: object: -20.2664\n",
      "15204    The Day After Tomorrow\n",
      "Name: Name, dtype: object: 20.1777\n",
      "17307    Legally Blonde\n",
      "Name: Name, dtype: object: -19.9396\n",
      "3462    10 Things I Hate About You\n",
      "Name: Name, dtype: object: -19.7204\n",
      "14312    The Patriot\n",
      "Name: Name, dtype: object: 19.5153\n",
      "11676    Swordfish\n",
      "Name: Name, dtype: object: 19.5089\n",
      " \n"
     ]
    }
   ],
   "source": [
    "for i in range(0,n_components):\n",
    "    Z_sort = np.argsort(np.abs(Z[:,i]))\n",
    "    print('Component ' + str(i))\n",
    "    for j in range(1,10):\n",
    "        movie_index = Z_sort[-j]\n",
    "        movie_title = movie_titles[movie_titles['ID'] == movie_index]['Name']\n",
    "        movie_weight = Z[movie_index,i]\n",
    "        print(str(movie_title) + ': ' + str(movie_weight))\n",
    "    print(' ')"
   ]
  },
  {
   "cell_type": "code",
   "execution_count": 84,
   "metadata": {},
   "outputs": [
    {
     "data": {
      "text/plain": [
       "array([ 70.90826416,   8.73449802,   7.28889751,   5.50119019,   4.61622143], dtype=float32)"
      ]
     },
     "execution_count": 84,
     "metadata": {},
     "output_type": "execute_result"
    }
   ],
   "source": [
    "svd.explained_variance_"
   ]
  },
  {
   "cell_type": "code",
   "execution_count": null,
   "metadata": {
    "collapsed": true
   },
   "outputs": [],
   "source": []
  },
  {
   "cell_type": "code",
   "execution_count": null,
   "metadata": {
    "collapsed": true
   },
   "outputs": [],
   "source": []
  },
  {
   "cell_type": "code",
   "execution_count": null,
   "metadata": {
    "collapsed": true
   },
   "outputs": [],
   "source": []
  }
 ],
 "metadata": {
  "kernelspec": {
   "display_name": "Python 3",
   "language": "python",
   "name": "python3"
  },
  "language_info": {
   "codemirror_mode": {
    "name": "ipython",
    "version": 3
   },
   "file_extension": ".py",
   "mimetype": "text/x-python",
   "name": "python",
   "nbconvert_exporter": "python",
   "pygments_lexer": "ipython3",
   "version": "3.6.2"
  }
 },
 "nbformat": 4,
 "nbformat_minor": 2
}
