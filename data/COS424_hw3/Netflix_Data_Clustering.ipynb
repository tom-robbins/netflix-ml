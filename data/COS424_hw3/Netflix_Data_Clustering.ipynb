{
 "cells": [
  {
   "cell_type": "markdown",
   "metadata": {
    "deletable": true,
    "editable": true
   },
   "source": [
    "# HW3: Netflix Data Analysis"
   ]
  },
  {
   "cell_type": "markdown",
   "metadata": {
    "deletable": true,
    "editable": true
   },
   "source": [
    "In this homework assignment, you will analyze the netflix prize data. The data consist of 100,480,50 movie ratings on a scale from 0 to 5 stars. The reveiws are distributed across 17,770 movies and 480,189. We have provided the training data as a sparse matrix where the row corresponds to the movie ID and the column corresponds to the user ID. A seperate file contains the title and year of release for each movie. The original, raw data consists of multiple lists of tuples; each list is a separate movie and each tuple is User ID, Rating, and Rating Year. \n",
    "The original data can be downloaded here: https://archive.org/download/nf_prize_dataset.tar\n",
    "Further information about the netflix prize is available online: \n",
    "https://en.wikipedia.org/wiki/Netflix_Prize\n",
    "https://www.netflixprize.com/"
   ]
  },
  {
   "cell_type": "code",
   "execution_count": 2,
   "metadata": {
    "collapsed": true,
    "deletable": true,
    "editable": true
   },
   "outputs": [],
   "source": [
    "import os, pickle, time\n",
    "import matplotlib.pyplot as plt\n",
    "import numpy as np\n",
    "import pandas as pd\n",
    "from scipy.sparse import csr_matrix, coo_matrix, csc_matrix\n",
    "import scipy.sparse as sparse\n",
    "from scipy import stats\n",
    "from sklearn import metrics\n",
    "from sklearn.cluster import KMeans, MiniBatchKMeans, DBSCAN, SpectralClustering, AgglomerativeClustering\n",
    "from sklearn.decomposition import TruncatedSVD\n",
    "from sklearn.linear_model import LinearRegression\n",
    "from sklearn.metrics import mean_squared_error, r2_score, explained_variance_score\n",
    "from sklearn.model_selection import train_test_split\n"
   ]
  },
  {
   "cell_type": "code",
   "execution_count": 3,
   "metadata": {
    "collapsed": false,
    "deletable": true,
    "editable": true
   },
   "outputs": [
    {
     "name": "stdout",
     "output_type": "stream",
     "text": [
      "   ID    Year                          Name\n",
      "0   1  2003.0               Dinosaur Planet\n",
      "1   2  2004.0    Isle of Man TT 2004 Review\n",
      "2   3  1997.0                     Character\n",
      "3   4  1994.0  Paula Abdul's Get Up & Dance\n",
      "4   5  2004.0      The Rise and Fall of ECW\n",
      "(17770, 3)\n"
     ]
    }
   ],
   "source": [
    "# This file consists of titles and release years associated with each ID\n",
    "movie_titles = pd.read_csv('movie_titles.txt', header = None, names = ['ID','Year','Name'], encoding='latin-1')\n",
    "print(movie_titles.head())\n",
    "print(movie_titles.shape)\n",
    "\n",
    "movie_by_id = {}\n",
    "for id, name, year in zip(movie_titles['ID'], movie_titles['Name'], movie_titles['Year']):\n",
    "    if not (np.isnan(year)):\n",
    "        year = str(int(year))\n",
    "    else:\n",
    "        year = 'NaN'\n",
    "    movie_by_id[id] = name + ' ' + '(' + year + ')'"
   ]
  },
  {
   "cell_type": "code",
   "execution_count": 4,
   "metadata": {
    "collapsed": false,
    "deletable": true,
    "editable": true
   },
   "outputs": [
    {
     "name": "stdout",
     "output_type": "stream",
     "text": [
      "(17771, 2649430)\n"
     ]
    }
   ],
   "source": [
    "# This file is a sparse matrix of movies by user, with each element a rating (1-5) or nonresponse (0)\n",
    "ratings_csr = sparse.load_npz('netflix_full_csr.npz')\n",
    "print(ratings_csr.shape)"
   ]
  },
  {
   "cell_type": "markdown",
   "metadata": {
    "deletable": true,
    "editable": true
   },
   "source": [
    "To avoid memory overflow errors we have randomly subsampled the data. Some computers can handle the full dataset (e.g. 2017 Macbook Pro can perform SVD on the full dataset). Older computers likely need to subsample the data. You can consider using Princeton computing resources and clusters to perform more computationally expensive analysis."
   ]
  },
  {
   "cell_type": "code",
   "execution_count": 5,
   "metadata": {
    "collapsed": true,
    "deletable": true,
    "editable": true
   },
   "outputs": [],
   "source": [
    "#n_samples = 5000\n",
    "#n_viewers = 500000\n",
    "#random_sample_movies = np.random.choice(17771, size = n_samples)\n",
    "#random_sample_viewers = np.random.choice(2649430, size = n_viewers)\n",
    "#ratings_small = ratings_csr[:,random_sample_viewers]"
   ]
  },
  {
   "cell_type": "code",
   "execution_count": 6,
   "metadata": {
    "collapsed": false,
    "deletable": true,
    "editable": true
   },
   "outputs": [
    {
     "name": "stdout",
     "output_type": "stream",
     "text": [
      "('before removing users with no reviews: ', (2649430, 17771))\n",
      "(480189, 17771)\n",
      "finished reduction in 27.70 seconds\n"
     ]
    }
   ],
   "source": [
    "# Filter the matrix to remove rows with NO REVIEWS\n",
    "start = time.time()\n",
    "ratings_csc = ratings_csr.T\n",
    "print('before removing users with no reviews: ', ratings_csc.shape)\n",
    "non_zero_users_csc = ratings_csc[(ratings_csc.getnnz(axis=1) != 0)]\n",
    "print(non_zero_users_csc.shape)\n",
    "\n",
    "finish = time.time()\n",
    "print('finished reduction in %.2f seconds' % (finish - start))\n",
    "ratings_small = non_zero_users_csc"
   ]
  },
  {
   "cell_type": "code",
   "execution_count": 176,
   "metadata": {
    "collapsed": true
   },
   "outputs": [],
   "source": [
    "# count the number of reviews for each film and store in review_nums list\n",
    "reviews_by_movie = {}\n",
    "csc_t = non_zero_users_csc.transpose()\n",
    "for i in range(1, csc_t.shape[0]):\n",
    "    movie_col = csc_t[i]\n",
    "    num_reviews = movie_col.nnz\n",
    "    reviews_by_movie[i] = {\n",
    "        'num_reviews': num_reviews,\n",
    "        'avg_review': movie_col.sum() / num_reviews\n",
    "    }"
   ]
  },
  {
   "cell_type": "code",
   "execution_count": 7,
   "metadata": {
    "collapsed": false,
    "deletable": true,
    "editable": true
   },
   "outputs": [
    {
     "name": "stderr",
     "output_type": "stream",
     "text": [
      "/usr/local/lib/python2.7/site-packages/sklearn/base.py:307: UserWarning: Trying to unpickle estimator KMeans from version 0.19.1 when using version 0.19.dev0. This might lead to breaking code or invalid results. Use at your own risk.\n",
      "  UserWarning)\n"
     ]
    }
   ],
   "source": [
    "if os.path.isfile('../../cache/cluster_cache.pickle'):\n",
    "    with open('../../cache/cluster_cache.pickle', 'r') as f:\n",
    "        [kmeans_all_users, clusters_all_users, clusters, counts] = pickle.load(f)\n",
    "else:\n",
    "    start = time.time()\n",
    "    svd = TruncatedSVD(n_components = 15, algorithm=\"arpack\", random_state=0)\n",
    "    all_users_small = svd.fit_transform(ratings_small)\n",
    "    finish = time.time()\n",
    "    print(all_users_small.shape)\n",
    "    print('finished svd in %.2f seconds' % (finish - start))"
   ]
  },
  {
   "cell_type": "code",
   "execution_count": 8,
   "metadata": {
    "collapsed": false,
    "deletable": true,
    "editable": true
   },
   "outputs": [
    {
     "name": "stderr",
     "output_type": "stream",
     "text": [
      "/usr/local/lib/python2.7/site-packages/sklearn/base.py:307: UserWarning: Trying to unpickle estimator TruncatedSVD from version 0.19.1 when using version 0.19.dev0. This might lead to breaking code or invalid results. Use at your own risk.\n",
      "  UserWarning)\n"
     ]
    }
   ],
   "source": [
    "if os.path.isfile('../../cache/svd_cache.pickle'):\n",
    "    with open('../../cache/svd_cache.pickle', 'r') as f:\n",
    "        [svd, all_users_small] = pickle.load(f)\n",
    "else:\n",
    "    raise\n",
    "    start = time.time()\n",
    "    kmeans_all_users = KMeans(n_clusters = 20 , random_state=0, algorithm=\"full\")\n",
    "    kmeans_all_users.fit(all_users_small)\n",
    "    finish = time.time()\n",
    "    print('finished clustering in %.2f seconds' % (finish - start))\n",
    "    clusters_all_users = kmeans_all_users.labels_\n",
    "    clusters, counts = np.unique(clusters_all_users, return_counts=True)\n",
    "    print(counts)"
   ]
  },
  {
   "cell_type": "code",
   "execution_count": null,
   "metadata": {
    "collapsed": true
   },
   "outputs": [],
   "source": []
  },
  {
   "cell_type": "markdown",
   "metadata": {
    "deletable": true,
    "editable": true
   },
   "source": [
    "A common methods for analyzing large datasets is dimension reduction. Here we perform a truncated SVD suited for sparse datasets and analyze which movies are associated with different latent dimensions"
   ]
  },
  {
   "cell_type": "code",
   "execution_count": 52,
   "metadata": {
    "collapsed": false,
    "deletable": true,
    "editable": true
   },
   "outputs": [
    {
     "name": "stdout",
     "output_type": "stream",
     "text": [
      "Movie #5315, 5314    The Lost Boys: Special Edition: Bonus Material\n",
      "Name: Name, dtype: object, average rating: 3.92 in 213 reviews\n",
      "[9, 4, 7, 9, 3, 8, 15, 14, 5, 17, 13, 16, 7, 9, 8, 6]\n",
      "regr took 0.159423112869\n",
      "MSE: 0.84 \t\t r2: -0.19 \t\t time: 0.87 ... (0.71 + 0.16)\n",
      "\n",
      "Movie #5316, 5315    The Lives of a Bengal Lancer\n",
      "Name: Name, dtype: object, average rating: 3.33 in 110 reviews\n",
      "[5, 7, 2, 9, 2, 88, 29, 3]\n",
      "regr took 0.599139928818\n",
      "MSE: 0.82 \t\t r2: 0.17 \t\t time: 1.30 ... (0.70 + 0.60)\n",
      "\n",
      "Movie #5317, 5316    Miss Congeniality\n",
      "Name: Name, dtype: object, average rating: 3.36 in 232944 reviews\n",
      "[1000, 1000, 1000, 1000, 1000, 1000, 1000, 1000, 1000, 1000, 1000, 1000, 1000, 1000, 1000, 1000, 1000, 1000, 1000, 1000]\n",
      "regr took 139.868797064\n",
      "MSE: 2.38 \t\t r2: -0.95 \t\t time: 154.52 ... (14.65 + 139.87)\n",
      "\n",
      "Movie #5318, 5317    Tommy Boy\n",
      "Name: Name, dtype: object, average rating: 3.60 in 78584 reviews\n",
      "[861, 1000, 1000, 1000, 1000, 1000, 1000, 1000, 1000, 1000, 1000, 1000, 1000, 1000, 1000, 1000, 1000, 1000, 1000, 1000]\n",
      "regr took 137.944272995\n",
      "MSE: 1.48 \t\t r2: -0.13 \t\t time: 145.13 ... (7.18 + 137.94)\n",
      "\n",
      "Movie #5319, 5318    Dragon Ball: Red Ribbon Army Saga\n",
      "Name: Name, dtype: object, average rating: 3.96 in 891 reviews\n",
      "[22, 6, 5, 40, 8, 22, 117, 7, 58, 81, 6, 72, 70, 104, 19, 11, 45, 16]\n",
      "regr took 3.43863987923\n",
      "MSE: 1.21 \t\t r2: 0.28 \t\t time: 4.63 ... (1.19 + 3.44)\n",
      "\n"
     ]
    }
   ],
   "source": [
    "y_pred_mode = []\n",
    "y_pred_mean = []\n",
    "y_test_all = []\n",
    "\n",
    "results_dict = {}\n",
    "max_reviews = 1000\n",
    "for movie_id in range(5315, 5320):\n",
    "    num_reviews = ratings_small[:,movie_id].count_nonzero()\n",
    "    movie_name = movie_titles[movie_titles['ID'] == movie_id]['Name']\n",
    "    print ('Movie #%s, %s, average rating: %.2f in %i reviews' % (\n",
    "        movie_id,\n",
    "        movie_name,\n",
    "        np.sum(ratings_small[:,movie_id]) / num_reviews,\n",
    "        int(num_reviews)\n",
    "    ))\n",
    "    \n",
    "    start = time.time()\n",
    "    filter_by = np.ravel((ratings_small[:,movie_id] != 0.0).toarray())\n",
    "    filtered_clusters = clusters_all_users[filter_by]\n",
    "    filtered_ratings = ratings_small[filter_by,:]\n",
    "    \n",
    "    movie_mask = np.ravel(np.full((filtered_ratings.shape[1], 1), True))\n",
    "    movie_mask[movie_id] = False\n",
    "    X = filtered_ratings[:,movie_mask]\n",
    "    y = filtered_ratings[:,movie_id].toarray()\n",
    "\n",
    "    \n",
    "    #y_and_c = np.transpose(np.vstack([np.ravel(y), filtered_clusters]))\n",
    "#     print(X.shape)\n",
    "#     print(y.shape)\n",
    "    #print(y_and_c.shape)\n",
    "    \n",
    "    X_train, X_test, y_train, y_test, c_train, c_test = train_test_split(X, y, filtered_clusters, test_size=0.2, random_state=0)\n",
    "    \n",
    "    ###\n",
    "    finish = time.time()\n",
    "    data_time = finish - start\n",
    "    \n",
    "    start = time.time()\n",
    "    clusters_for_this_movie = np.unique(c_test)\n",
    "    regrs = []\n",
    "    user_masks = []\n",
    "    total_y_pred = []\n",
    "    total_y_test = []\n",
    "    lens = []\n",
    "    for cluster in clusters_for_this_movie:\n",
    "        regr = LinearRegression()\n",
    "        new_X_train = X_train[c_train==cluster]\n",
    "        new_y_train = y_train[c_train==cluster]\n",
    "        if new_y_train.shape[0] == 0:\n",
    "            new_X_train = X_train\n",
    "            new_y_train = y_train\n",
    "        if new_X_train.shape[0] > max_reviews:\n",
    "            random_mask = np.random.choice(new_X_train.shape[0], size=max_reviews, replace=False)\n",
    "            new_X_train = new_X_train[random_mask]\n",
    "            new_y_train = new_y_train[random_mask]\n",
    "        lens.append(len(new_y_train))\n",
    "        regr.fit(new_X_train.toarray(), new_y_train)\n",
    "        regrs.append(regr)\n",
    "        user_masks.append(user_mask)\n",
    "        \n",
    "    for i, cluster in enumerate(clusters_for_this_movie):\n",
    "        new_X_test = X_test[c_test==cluster]\n",
    "        new_y_test = y_test[c_test==cluster]\n",
    "        new_y_pred = regrs[i].predict(new_X_test.toarray())\n",
    "        total_y_pred = np.append(total_y_pred, new_y_pred)\n",
    "        total_y_test = np.append(total_y_test, new_y_test)\n",
    "\n",
    "    finish = time.time()\n",
    "    regr_time = finish - start\n",
    "    print 'regr took', regr_time\n",
    "    \n",
    "    current_r2 = r2_score(total_y_test, total_y_pred)\n",
    "    current_mse = mean_squared_error(total_y_test, total_y_pred)\n",
    "    \n",
    "    results_dict[movie_id] = {\n",
    "        'name': movie_by_id[movie_id],\n",
    "        'id': movie_id,\n",
    "        'regr_time': regr_time,\n",
    "        'data_time': data_time,\n",
    "        #'regr': regr,\n",
    "        'mse': current_mse,\n",
    "        'r2': current_r2,\n",
    "    }\n",
    "    print \"MSE: %.2f \\t\\t r2: %.2f \\t\\t time: %.2f ... (%.2f + %.2f)\" % (\n",
    "        current_mse,\n",
    "        current_r2,\n",
    "        data_time + regr_time, data_time, regr_time\n",
    "    )\n",
    "    print\n",
    "    ###\n",
    "    \n",
    "#     for (cluster, review) in zip(c_test, y_test):\n",
    "#         y_test_all.append(review)\n",
    "#         cluster_reviews = y_train[c_train == cluster]\n",
    "#         mode, _ = stats.mode(y_train, axis =None)\n",
    "#         mode_all = mode[0]\n",
    "#         mean_all = np.mean(y_train)\n",
    "        \n",
    "#         if len(cluster_reviews) != 0:\n",
    "#             mode, _ = stats.mode(cluster_reviews, axis =None)\n",
    "#             y_pred_mode.append(mode[0])\n",
    "#             y_pred_mean.append(np.mean(cluster_reviews))\n",
    "#         else:\n",
    "#             mode, _ = stats.mode(y_train, axis =None)\n",
    "#             y_pred_mode.append(mode_all)\n",
    "#             y_pred_mean.append(mean_all)\n",
    "    \n",
    "    #print'r2: %.2f' % r2_score(total_y_test, total_y_pred), '\\t', 'MSE: %.2f' % mean_squared_error(total_y_test, total_y_pred)\n",
    "    \n",
    "        \n",
    "    \n"
   ]
  },
  {
   "cell_type": "code",
   "execution_count": 17,
   "metadata": {
    "collapsed": true,
    "deletable": true,
    "editable": true
   },
   "outputs": [],
   "source": [
    "ratings_csc = ratings_small\n",
    "ratings_csr = csr_matrix(ratings_small)"
   ]
  },
  {
   "cell_type": "code",
   "execution_count": 117,
   "metadata": {
    "collapsed": false
   },
   "outputs": [
    {
     "name": "stdout",
     "output_type": "stream",
     "text": [
      "0   100000   200000   300000   400000   (480189,)\n",
      "0   (17771,)\n"
     ]
    },
    {
     "name": "stderr",
     "output_type": "stream",
     "text": [
      "/usr/local/lib/python2.7/site-packages/ipykernel/__main__.py:11: RuntimeWarning: invalid value encountered in divide\n",
      "/usr/local/lib/python2.7/site-packages/ipykernel/__main__.py:12: RuntimeWarning: invalid value encountered in divide\n",
      "/usr/local/lib/python2.7/site-packages/ipykernel/__main__.py:19: RuntimeWarning: invalid value encountered in divide\n"
     ]
    }
   ],
   "source": [
    "# Caluclate variance of user and movie reviews\n",
    "def variance_of_sparse_rows(sparse_matrix):\n",
    "    squared_sums = np.zeros(sparse_matrix.shape[0])\n",
    "    for row in range(sparse_matrix.shape[0]):\n",
    "        if row % 100000 == 0:\n",
    "            print row, ' ',\n",
    "        squared_sums[row] = np.sum(np.square(np.ravel(sparse.find(sparse_matrix[row])[2])))\n",
    "    squared_sums \n",
    "    print squared_sums.shape\n",
    "    num = np.ravel(sparse_matrix.getnnz(axis=1))\n",
    "    mean = np.ravel(sparse_matrix.sum(axis=1)) / num\n",
    "    return (squared_sums / num) - np.square(mean)\n",
    "\n",
    "user_variance = variance_of_sparse_rows(ratings_csr)\n",
    "movie_variance = variance_of_sparse_rows(ratings_csc.transpose())\n",
    "movie_variance[0] = 0.0\n",
    "\n",
    "user_average = np.ravel(ratings_csc.sum(axis=1)) / np.ravel(ratings_csc.getnnz(axis=1))\n",
    "movie_average = np.ravel(ratings_csr.sum(axis=0)) / np.ravel(ratings_csr.getnnz(axis=0))\n",
    "movie_average[0] = 0"
   ]
  },
  {
   "cell_type": "code",
   "execution_count": 115,
   "metadata": {
    "collapsed": false,
    "deletable": true,
    "editable": true
   },
   "outputs": [
    {
     "data": {
      "text/plain": [
       "(480189, 20)"
      ]
     },
     "execution_count": 115,
     "metadata": {},
     "output_type": "execute_result"
    }
   ],
   "source": [
    "# average_index = clusters_all_users.shape[0]\n",
    "\n",
    "# new_data = coo_matrix(\n",
    "#     (np.ones(clusters_all_users.shape[0]),\n",
    "#     (\n",
    "#         np.arange(clusters_all_users.shape[0]),\n",
    "#         clusters_all_users)\n",
    "#     )\n",
    "# ) \n",
    "# csr_new_data = csr_matrix(new_data)\n",
    "\n",
    "# csr_new_data.shape"
   ]
  },
  {
   "cell_type": "code",
   "execution_count": 268,
   "metadata": {
    "collapsed": false
   },
   "outputs": [],
   "source": [
    "# find the average movie review\n",
    "rating_average = ratings_csr.sum() / ratings_csc.getnnz()\n",
    "summ = 0\n",
    "# find the average movie review per cluster\n",
    "cluster_averages = []\n",
    "for cluster in clusters:\n",
    "    clust_data = ratings_csr[clusters_all_users == cluster]\n",
    "    cluster_averages.append(clust_data.sum() / clust_data.getnnz())\n",
    "    summ += clust_data.getnnz()\n"
   ]
  },
  {
   "cell_type": "code",
   "execution_count": 306,
   "metadata": {
    "collapsed": false
   },
   "outputs": [
    {
     "data": {
      "text/plain": [
       "<480189x17771 sparse matrix of type '<type 'numpy.float32'>'\n",
       "\twith 100479926 stored elements in Compressed Sparse Row format>"
      ]
     },
     "execution_count": 306,
     "metadata": {},
     "output_type": "execute_result"
    }
   ],
   "source": [
    "ratings_csr"
   ]
  },
  {
   "cell_type": "code",
   "execution_count": 299,
   "metadata": {
    "collapsed": false
   },
   "outputs": [
    {
     "name": "stdout",
     "output_type": "stream",
     "text": [
      "3.5384615384615383\n",
      "3.4814814814814814\n",
      "\n",
      "3.5805869946980584\n",
      "3.5744080425719202\n"
     ]
    }
   ],
   "source": [
    "def user_avg_without_movie(user_id, movie_id):\n",
    "    sums = ratings_csr[user_id,:movie_id].sum() + ratings_csr[user_id,movie_id+1:].sum()\n",
    "    nums = ratings_csr[user_id,:movie_id].getnnz() + ratings_csr[user_id,movie_id+1:].getnnz()\n",
    "    return sums / nums\n",
    "print user_avg_without_movie(4, 12918)\n",
    "print user_average[4]\n",
    "print\n",
    "\n",
    "def cluster_avg_without_user(cluster_id, user_id):\n",
    "    sums = ratings_csr[clusters_all_users == cluster_id].sum() - ratings_csr[user_id].sum()\n",
    "    nums = ratings_csr[clusters_all_users == cluster_id].getnnz() - ratings_csr[user_id].getnnz()\n",
    "    return sums / nums\n",
    "\n",
    "print cluster_avg_without_user(7, 55373)\n",
    "print cluster_averages[7]"
   ]
  },
  {
   "cell_type": "code",
   "execution_count": 292,
   "metadata": {
    "collapsed": false
   },
   "outputs": [
    {
     "data": {
      "text/plain": [
       "7"
      ]
     },
     "execution_count": 292,
     "metadata": {},
     "output_type": "execute_result"
    }
   ],
   "source": [
    "clusters_all_users[55373]"
   ]
  },
  {
   "cell_type": "code",
   "execution_count": 305,
   "metadata": {
    "collapsed": false,
    "deletable": true,
    "editable": true,
    "scrolled": true
   },
   "outputs": [
    {
     "name": "stdout",
     "output_type": "stream",
     "text": [
      "Movie #100, 99    Sam the Iron Bridge\n",
      "Name: Name, dtype: object, average rating: 2.65 in 78 reviews\n",
      "MSE: 0.99 \t\t r2: 0.27 \t\t time: 0.83\n",
      "\n",
      "Movie #101, 100    Complete Shamanic Princess\n",
      "Name: Name, dtype: object, average rating: 3.37 in 330 reviews\n",
      "MSE: 1.25 \t\t r2: 0.11 \t\t time: 0.90\n",
      "\n",
      "Movie #102, 101    Notre Musique\n",
      "Name: Name, dtype: object, average rating: 2.74 in 330 reviews\n",
      "MSE: 1.36 \t\t r2: 0.11 \t\t time: 0.70\n",
      "\n",
      "Movie #103, 102    Sanford and Son: Season 6\n",
      "Name: Name, dtype: object, average rating: 3.66 in 209 reviews\n",
      "MSE: 1.15 \t\t r2: 0.35 \t\t time: 0.84\n",
      "\n",
      "Movie #104, 103    The Great Race\n",
      "Name: Name, dtype: object, average rating: 3.70 in 3500 reviews\n",
      "MSE: 0.75 \t\t r2: 0.19 \t\t time: 1.58\n",
      "\n",
      "Movie #105, 104    Obsessed\n",
      "Name: Name, dtype: object, average rating: 3.13 in 192 reviews\n",
      "MSE: 0.90 \t\t r2: -0.19 \t\t time: 0.75\n",
      "\n",
      "Movie #106, 105    Stevie Ray Vaughan and Double Trouble: Live at...\n",
      "Name: Name, dtype: object, average rating: 4.10 in 940 reviews\n",
      "MSE: 0.98 \t\t r2: 0.17 \t\t time: 1.39\n",
      "\n",
      "Movie #107, 106    Magnolia: Bonus Material\n",
      "Name: Name, dtype: object, average rating: 3.35 in 829 reviews\n",
      "MSE: 1.37 \t\t r2: 0.21 \t\t time: 1.36\n",
      "\n",
      "Movie #108, 107    Spartan\n",
      "Name: Name, dtype: object, average rating: 3.17 in 19018 reviews\n",
      "MSE: 0.85 \t\t r2: 0.10 \t\t time: 5.63\n",
      "\n",
      "Movie #109, 108    No Way Back\n",
      "Name: Name, dtype: object, average rating: 2.68 in 545 reviews\n",
      "MSE: 0.79 \t\t r2: 0.18 \t\t time: 0.97\n",
      "\n",
      "Movie #110, 109    Scandal\n",
      "Name: Name, dtype: object, average rating: 3.03 in 2159 reviews\n",
      "MSE: 0.66 \t\t r2: 0.15 \t\t time: 1.86\n",
      "\n",
      "Movie #111, 110    Duplex (Widescreen)\n",
      "Name: Name, dtype: object, average rating: 3.08 in 30127 reviews\n",
      "MSE: 0.82 \t\t r2: 0.17 \t\t time: 10.78\n",
      "\n",
      "Movie #112, 111    The Eye of Vichy\n",
      "Name: Name, dtype: object, average rating: 3.00 in 239 reviews\n",
      "MSE: 1.44 \t\t r2: -0.11 \t\t time: 0.74\n",
      "\n",
      "Movie #113, 112    Bruce Lee: A Warrior's Journey\n",
      "Name: Name, dtype: object, average rating: 3.89 in 1393 reviews\n",
      "MSE: 0.74 \t\t r2: 0.22 \t\t time: 1.17\n",
      "\n",
      "Movie #114, 113    Dominion Tank Police Part 1 & 2\n",
      "Name: Name, dtype: object, average rating: 3.37 in 428 reviews\n",
      "MSE: 0.85 \t\t r2: 0.33 \t\t time: 0.62\n",
      "\n",
      "Movie #115, 114    Lord Peter Wimsey: Murder Must Advertise\n",
      "Name: Name, dtype: object, average rating: 3.54 in 666 reviews\n",
      "MSE: 1.21 \t\t r2: 0.03 \t\t time: 0.64\n",
      "\n",
      "Movie #116, 115    Bear Cub\n",
      "Name: Name, dtype: object, average rating: 3.54 in 1126 reviews\n",
      "MSE: 0.81 \t\t r2: 0.25 \t\t time: 0.75\n",
      "\n",
      "Movie #117, 116    Silk Stockings\n",
      "Name: Name, dtype: object, average rating: 3.46 in 981 reviews\n",
      "MSE: 0.82 \t\t r2: 0.13 \t\t time: 0.71\n",
      "\n",
      "Movie #118, 117    Rambo: First Blood Part II\n",
      "Name: Name, dtype: object, average rating: 3.43 in 19240 reviews\n",
      "MSE: 0.83 \t\t r2: 0.30 \t\t time: 4.50\n",
      "\n",
      "Movie #119, 118    Travel the World by Train: Africa\n",
      "Name: Name, dtype: object, average rating: 2.70 in 96 reviews\n",
      "MSE: 1.35 \t\t r2: -0.10 \t\t time: 0.55\n",
      "\n",
      "Movie #120, 119    Plain Dirty\n",
      "Name: Name, dtype: object, average rating: 2.42 in 339 reviews\n",
      "MSE: 0.97 \t\t r2: -0.09 \t\t time: 0.70\n",
      "\n",
      "Movie #121, 120    Beyonce: Live at Wembley\n",
      "Name: Name, dtype: object, average rating: 3.62 in 99 reviews\n",
      "MSE: 1.07 \t\t r2: 0.23 \t\t time: 0.61\n",
      "\n",
      "Movie #122, 121    Cube 2: Hypercube\n",
      "Name: Name, dtype: object, average rating: 2.91 in 3382 reviews\n",
      "MSE: 0.93 \t\t r2: 0.18 \t\t time: 1.26\n",
      "\n",
      "Movie #123, 122    Chain of Fools\n",
      "Name: Name, dtype: object, average rating: 2.83 in 276 reviews\n",
      "MSE: 0.99 \t\t r2: 0.15 \t\t time: 0.66\n",
      "\n",
      "Movie #124, 123    Cold Blooded\n",
      "Name: Name, dtype: object, average rating: 2.27 in 169 reviews\n",
      "MSE: 1.09 \t\t r2: -0.15 \t\t time: 0.65\n",
      "\n",
      "Movie #125, 124    Nighthawks\n",
      "Name: Name, dtype: object, average rating: 3.37 in 1729 reviews\n",
      "MSE: 0.65 \t\t r2: 0.21 \t\t time: 1.35\n",
      "\n",
      "Movie #126, 125    Vampire Effect (aka Twins Effect)\n",
      "Name: Name, dtype: object, average rating: 3.20 in 1184 reviews\n",
      "MSE: 0.94 \t\t r2: 0.26 \t\t time: 0.99\n",
      "\n",
      "Movie #127, 126    Fatal Beauty\n",
      "Name: Name, dtype: object, average rating: 2.63 in 3014 reviews\n",
      "MSE: 0.87 \t\t r2: 0.31 \t\t time: 1.69\n",
      "\n",
      "Movie #128, 127    Mr. Vampire\n",
      "Name: Name, dtype: object, average rating: 3.22 in 417 reviews\n",
      "MSE: 1.17 \t\t r2: 0.33 \t\t time: 1.05\n",
      "\n",
      "Movie #129, 128    Darkwolf\n",
      "Name: Name, dtype: object, average rating: 2.15 in 756 reviews\n",
      "MSE: 0.93 \t\t r2: 0.07 \t\t time: 0.79\n",
      "\n",
      "Movie #130, 129    Drowning on Dry Land\n",
      "Name: Name, dtype: object, average rating: 2.23 in 86 reviews\n",
      "MSE: 1.89 \t\t r2: -0.71 \t\t time: 0.56\n",
      "\n",
      "Movie #131, 130    Arachnid\n",
      "Name: Name, dtype: object, average rating: 2.70 in 705 reviews\n",
      "MSE: 0.73 \t\t r2: 0.33 \t\t time: 0.92\n",
      "\n",
      "Movie #132, 131    Lucio Fulci: The Beyond\n",
      "Name: Name, dtype: object, average rating: 3.07 in 830 reviews\n",
      "MSE: 1.49 \t\t r2: 0.07 \t\t time: 0.85\n",
      "\n",
      "Movie #133, 132    Viva La Bam: Season 1\n",
      "Name: Name, dtype: object, average rating: 3.74 in 2563 reviews\n",
      "MSE: 1.59 \t\t r2: 0.16 \t\t time: 1.15\n",
      "\n",
      "Movie #134, 133    Spirit Lost\n",
      "Name: Name, dtype: object, average rating: 2.13 in 99 reviews\n",
      "MSE: 1.02 \t\t r2: -0.68 \t\t time: 0.81\n",
      "\n",
      "Movie #135, 134    GTO: Great Teacher Onizuka: Set 2\n",
      "Name: Name, dtype: object, average rating: 4.14 in 384 reviews\n",
      "MSE: 1.13 \t\t r2: 0.28 \t\t time: 1.03\n",
      "\n",
      "Movie #136, 135    Cat and the Canary\n",
      "Name: Name, dtype: object, average rating: 2.98 in 120 reviews\n",
      "MSE: 1.16 \t\t r2: -0.07 \t\t time: 0.59\n",
      "\n",
      "Movie #137, 136    Naked Lies\n",
      "Name: Name, dtype: object, average rating: 2.39 in 204 reviews\n",
      "MSE: 0.93 \t\t r2: 0.21 \t\t time: 0.75\n",
      "\n",
      "Movie #138, 137    Star Trek: Voyager: Season 1\n",
      "Name: Name, dtype: object, average rating: 3.94 in 6007 reviews\n",
      "MSE: 1.08 \t\t r2: 0.19 \t\t time: 2.00\n",
      "\n",
      "Movie #139, 138    Allergies: A Natural Approach\n",
      "Name: Name, dtype: object, average rating: 2.51 in 96 reviews\n",
      "MSE: 2.16 \t\t r2: -0.65 \t\t time: 0.48\n",
      "\n",
      "Movie #140, 139    Lost in the Wild\n",
      "Name: Name, dtype: object, average rating: 2.53 in 119 reviews\n",
      "MSE: 1.52 \t\t r2: -0.40 \t\t time: 0.63\n",
      "\n",
      "Movie #141, 140    Goddess of Mercy\n",
      "Name: Name, dtype: object, average rating: 2.98 in 126 reviews\n",
      "MSE: 1.16 \t\t r2: 0.03 \t\t time: 0.61\n",
      "\n",
      "Movie #142, 141    The Tricky Master\n",
      "Name: Name, dtype: object, average rating: 2.81 in 326 reviews\n",
      "MSE: 1.01 \t\t r2: 0.27 \t\t time: 0.65\n",
      "\n",
      "Movie #143, 142    The Game\n",
      "Name: Name, dtype: object, average rating: 3.85 in 38362 reviews\n",
      "MSE: 0.70 \t\t r2: 0.18 \t\t time: 7.82\n",
      "\n",
      "Movie #144, 143    Deepak Chopra: The Way of the Wizard & Alchemy\n",
      "Name: Name, dtype: object, average rating: 3.20 in 289 reviews\n",
      "MSE: 1.26 \t\t r2: 0.25 \t\t time: 0.64\n",
      "\n",
      "Movie #145, 144    Get Out Your Handkerchiefs\n",
      "Name: Name, dtype: object, average rating: 3.07 in 455 reviews\n",
      "MSE: 1.08 \t\t r2: 0.05 \t\t time: 0.67\n",
      "\n",
      "Movie #146, 145    Cannibal Women in the Avocado Jungle of Death\n",
      "Name: Name, dtype: object, average rating: 2.42 in 366 reviews\n",
      "MSE: 1.56 \t\t r2: -0.11 \t\t time: 0.80\n",
      "\n",
      "Movie #147, 146    Where Sleeping Dogs Lie\n",
      "Name: Name, dtype: object, average rating: 2.17 in 131 reviews\n",
      "MSE: 0.90 \t\t r2: -0.46 \t\t time: 0.64\n",
      "\n",
      "Movie #148, 147    Sweet November\n",
      "Name: Name, dtype: object, average rating: 3.30 in 22194 reviews\n",
      "MSE: 0.85 \t\t r2: 0.27 \t\t time: 4.93\n",
      "\n",
      "Movie #149, 148    The Edward R. Murrow Collection\n",
      "Name: Name, dtype: object, average rating: 3.02 in 62 reviews\n",
      "MSE: 2.87 \t\t r2: -0.55 \t\t time: 0.63\n",
      "\n",
      "Movie #150, 149    Firetrap\n",
      "Name: Name, dtype: object, average rating: 2.88 in 265 reviews\n",
      "MSE: 0.69 \t\t r2: 0.34 \t\t time: 0.75\n",
      "\n",
      "Movie #151, 150    Sleepover Nightmare\n",
      "Name: Name, dtype: object, average rating: 1.95 in 176 reviews\n",
      "MSE: 1.36 \t\t r2: -0.30 \t\t time: 0.67\n",
      "\n",
      "Movie #152, 151    A Little Princess\n",
      "Name: Name, dtype: object, average rating: 3.93 in 9162 reviews\n",
      "MSE: 0.63 \t\t r2: 0.19 \t\t time: 2.46\n",
      "\n",
      "Movie #153, 152    MTV Yoga\n",
      "Name: Name, dtype: object, average rating: 2.75 in 321 reviews\n",
      "MSE: 1.07 \t\t r2: -0.11 \t\t time: 0.66\n",
      "\n",
      "Movie #154, 153    Demon Warrior Koji\n",
      "Name: Name, dtype: object, average rating: 2.94 in 158 reviews\n",
      "MSE: 1.83 \t\t r2: -0.16 \t\t time: 0.76\n",
      "\n",
      "Movie #155, 154    The Strongest Man in the World\n",
      "Name: Name, dtype: object, average rating: 3.60 in 980 reviews\n",
      "MSE: 0.47 \t\t r2: 0.35 \t\t time: 0.83\n",
      "\n",
      "Movie #156, 155    Husbands and Wives\n",
      "Name: Name, dtype: object, average rating: 3.50 in 8179 reviews\n",
      "MSE: 0.78 \t\t r2: 0.25 \t\t time: 2.47\n",
      "\n",
      "Movie #157, 156    Laird: White Knuckle Extreme\n",
      "Name: Name, dtype: object, average rating: 3.38 in 705 reviews\n",
      "MSE: 1.25 \t\t r2: 0.09 \t\t time: 1.18\n",
      "\n",
      "Movie #158, 157    A Killer Within\n",
      "Name: Name, dtype: object, average rating: 2.66 in 374 reviews\n",
      "MSE: 0.89 \t\t r2: -0.03 \t\t time: 0.80\n",
      "\n",
      "Movie #159, 158    Gentlemen of Fortune\n",
      "Name: Name, dtype: object, average rating: 3.93 in 164 reviews\n",
      "MSE: 1.19 \t\t r2: 0.26 \t\t time: 1.31\n",
      "\n",
      "Movie #160, 159    Gormenghast\n",
      "Name: Name, dtype: object, average rating: 3.01 in 899 reviews\n",
      "MSE: 1.40 \t\t r2: 0.14 \t\t time: 1.06\n",
      "\n",
      "Movie #161, 160    Ninotchka\n",
      "Name: Name, dtype: object, average rating: 3.85 in 649 reviews\n",
      "MSE: 0.67 \t\t r2: 0.34 \t\t time: 0.98\n",
      "\n",
      "Movie #162, 161    John Cleese on How to Irritate People\n",
      "Name: Name, dtype: object, average rating: 2.96 in 474 reviews\n",
      "MSE: 1.17 \t\t r2: -0.03 \t\t time: 1.21\n",
      "\n",
      "Movie #163, 162    MTV: Making the Band 2: Best of Season 1\n",
      "Name: Name, dtype: object, average rating: 2.38 in 193 reviews\n",
      "MSE: 2.22 \t\t r2: -0.11 \t\t time: 1.26\n",
      "\n",
      "Movie #164, 163    One Last Dance\n",
      "Name: Name, dtype: object, average rating: 2.63 in 652 reviews\n",
      "MSE: 0.83 \t\t r2: 0.18 \t\t time: 1.69\n",
      "\n",
      "Movie #165, 164    Richard Pryor: Live on the Sunset Strip\n",
      "Name: Name, dtype: object, average rating: 3.92 in 4588 reviews\n",
      "MSE: 0.75 \t\t r2: 0.21 \t\t time: 2.91\n",
      "\n",
      "Movie #166, 165    Fame\n",
      "Name: Name, dtype: object, average rating: 3.56 in 9435 reviews\n",
      "MSE: 0.74 \t\t r2: 0.20 \t\t time: 2.65\n",
      "\n",
      "Movie #167, 166    The Chorus\n",
      "Name: Name, dtype: object, average rating: 4.09 in 9151 reviews\n",
      "MSE: 0.72 \t\t r2: 0.13 \t\t time: 2.19\n",
      "\n",
      "Movie #168, 167    Smokey and the Bandit Part 3\n",
      "Name: Name, dtype: object, average rating: 3.24 in 1353 reviews\n",
      "MSE: 1.02 \t\t r2: 0.26 \t\t time: 0.82\n",
      "\n",
      "Movie #169, 168    Cartoon Network Halloween: 9 Creepy Cartoon Ca...\n",
      "Name: Name, dtype: object, average rating: 3.39 in 335 reviews\n",
      "MSE: 0.94 \t\t r2: 0.40 \t\t time: 0.62\n",
      "\n",
      "Movie #170, 169    Tomorrow\n",
      "Name: Name, dtype: object, average rating: 3.18 in 215 reviews\n",
      "MSE: 1.06 \t\t r2: 0.12 \t\t time: 0.55\n",
      "\n",
      "Movie #171, 170    Funny Face\n",
      "Name: Name, dtype: object, average rating: 3.74 in 6190 reviews\n",
      "MSE: 0.72 \t\t r2: 0.22 \t\t time: 1.70\n",
      "\n",
      "Movie #172, 171    Jack\n",
      "Name: Name, dtype: object, average rating: 3.13 in 322 reviews\n",
      "MSE: 0.85 \t\t r2: 0.41 \t\t time: 0.71\n",
      "\n",
      "Movie #173, 172    The Devil's Brigade\n",
      "Name: Name, dtype: object, average rating: 3.54 in 2236 reviews\n",
      "MSE: 0.81 \t\t r2: 0.14 \t\t time: 0.99\n",
      "\n",
      "Movie #174, 173    Adam-12: Season 1\n",
      "Name: Name, dtype: object, average rating: 3.32 in 191 reviews\n",
      "MSE: 1.06 \t\t r2: 0.35 \t\t time: 0.56\n",
      "\n",
      "Movie #175, 174    Reservoir Dogs\n",
      "Name: Name, dtype: object, average rating: 4.00 in 90450 reviews\n",
      "MSE: 0.87 \t\t r2: 0.15 \t\t time: 17.07\n",
      "\n",
      "Movie #176, 175    The History Channel Presents: Troy: Unearthing...\n",
      "Name: Name, dtype: object, average rating: 3.27 in 210 reviews\n",
      "MSE: 0.63 \t\t r2: -0.15 \t\t time: 0.67\n",
      "\n",
      "Movie #177, 176    Pressure\n",
      "Name: Name, dtype: object, average rating: 2.68 in 241 reviews\n",
      "MSE: 0.91 \t\t r2: -0.21 \t\t time: 0.53\n",
      "\n",
      "Movie #178, 177    Regular Guys\n",
      "Name: Name, dtype: object, average rating: 3.37 in 1931 reviews\n",
      "MSE: 0.80 \t\t r2: 0.19 \t\t time: 0.89\n",
      "\n",
      "Movie #179, 178    Bollywood Bound\n",
      "Name: Name, dtype: object, average rating: 2.46 in 286 reviews\n",
      "MSE: 1.00 \t\t r2: 0.06 \t\t time: 0.55\n",
      "\n",
      "Movie #180, 179    Scratch\n",
      "Name: Name, dtype: object, average rating: 3.83 in 2418 reviews\n",
      "MSE: 0.86 \t\t r2: 0.17 \t\t time: 1.04\n",
      "\n",
      "Movie #181, 180    The Last Shot\n",
      "Name: Name, dtype: object, average rating: 2.60 in 3558 reviews\n",
      "MSE: 0.74 \t\t r2: 0.13 \t\t time: 1.15\n",
      "\n",
      "Movie #182, 181    Moby: Play\n",
      "Name: Name, dtype: object, average rating: 3.08 in 234 reviews\n",
      "MSE: 1.19 \t\t r2: 0.15 \t\t time: 0.50\n",
      "\n",
      "Movie #183, 182    IFilm: Deranged\n",
      "Name: Name, dtype: object, average rating: 3.01 in 163 reviews\n",
      "MSE: 1.47 \t\t r2: -0.34 \t\t time: 0.51\n",
      "\n",
      "Movie #184, 183    Billy Blanks: Tae Bo: Cardio Circuit 1\n",
      "Name: Name, dtype: object, average rating: 3.34 in 399 reviews\n",
      "MSE: 1.28 \t\t r2: -0.36 \t\t time: 0.54\n",
      "\n",
      "Movie #185, 184    Missing in Action 2: The Beginning / Missing i...\n",
      "Name: Name, dtype: object, average rating: 3.06 in 2297 reviews\n",
      "MSE: 0.88 \t\t r2: 0.32 \t\t time: 1.03\n",
      "\n",
      "Movie #186, 185    Panic in the Streets\n",
      "Name: Name, dtype: object, average rating: 3.38 in 291 reviews\n",
      "MSE: 0.75 \t\t r2: 0.01 \t\t time: 0.57\n",
      "\n",
      "Movie #187, 186    Death to Smoochy\n",
      "Name: Name, dtype: object, average rating: 3.01 in 20049 reviews\n",
      "MSE: 1.08 \t\t r2: 0.16 \t\t time: 4.67\n",
      "\n",
      "Movie #188, 187    Dead Birds\n",
      "Name: Name, dtype: object, average rating: 2.76 in 2549 reviews\n",
      "MSE: 0.94 \t\t r2: 0.13 \t\t time: 1.46\n",
      "\n",
      "Movie #189, 188    Airplane II: The Sequel\n",
      "Name: Name, dtype: object, average rating: 3.35 in 14137 reviews\n",
      "MSE: 0.78 \t\t r2: 0.20 \t\t time: 3.82\n",
      "\n",
      "Movie #190, 189    Blood and Sand\n",
      "Name: Name, dtype: object, average rating: 2.10 in 104 reviews\n",
      "MSE: 1.15 \t\t r2: -0.58 \t\t time: 0.61\n",
      "\n",
      "Movie #191, 190    X2: X-Men United\n",
      "Name: Name, dtype: object, average rating: 3.93 in 98720 reviews\n",
      "MSE: 0.65 \t\t r2: 0.19 \t\t time: 18.91\n",
      "\n",
      "Movie #192, 191    The SoulTaker\n",
      "Name: Name, dtype: object, average rating: 3.20 in 275 reviews\n",
      "MSE: 1.03 \t\t r2: 0.21 \t\t time: 0.74\n",
      "\n",
      "Movie #193, 192    Marilyn Manson: Fear of a Satanic Planet\n",
      "Name: Name, dtype: object, average rating: 2.98 in 121 reviews\n",
      "MSE: 1.71 \t\t r2: 0.12 \t\t time: 0.55\n",
      "\n",
      "Movie #194, 193    Arliss: The Best of Arliss\n",
      "Name: Name, dtype: object, average rating: 3.13 in 646 reviews\n",
      "MSE: 1.18 \t\t r2: 0.26 \t\t time: 0.82\n",
      "\n",
      "Movie #195, 194    Chasing Freedom\n",
      "Name: Name, dtype: object, average rating: 3.30 in 185 reviews\n",
      "MSE: 1.11 \t\t r2: 0.11 \t\t time: 0.56\n",
      "\n",
      "Movie #196, 195    Peter Tosh: Stepping Razor: Red X\n",
      "Name: Name, dtype: object, average rating: 3.47 in 154 reviews\n",
      "MSE: 1.20 \t\t r2: 0.11 \t\t time: 0.51\n",
      "\n",
      "Movie #197, 196    Taking Lives\n",
      "Name: Name, dtype: object, average rating: 3.48 in 81260 reviews\n",
      "MSE: 0.76 \t\t r2: 0.24 \t\t time: 14.81\n",
      "\n",
      "Movie #198, 197    Gupt\n",
      "Name: Name, dtype: object, average rating: 3.08 in 194 reviews\n",
      "MSE: 0.68 \t\t r2: 0.43 \t\t time: 0.65\n",
      "\n",
      "Movie #199, 198    The Deer Hunter\n",
      "Name: Name, dtype: object, average rating: 3.89 in 35509 reviews\n",
      "MSE: 0.87 \t\t r2: 0.14 \t\t time: 7.62\n",
      "\n",
      "FINAL\n",
      "r2: 0.2902312262657597\n",
      "mse: 0.2902312262657597\n"
     ]
    }
   ],
   "source": [
    "results_dict = {}\n",
    "max_reviews = 1000\n",
    "master_pred = []\n",
    "master_test = []\n",
    "for movie_id in range(100,200):\n",
    "    num_reviews = ratings_small[:,movie_id].count_nonzero()\n",
    "    movie_name = movie_titles[movie_titles['ID'] == movie_id]['Name']\n",
    "    print ('Movie #%s, %s, average rating: %.2f in %i reviews' % (\n",
    "        movie_id,\n",
    "        movie_name,\n",
    "        np.sum(ratings_small[:,movie_id]) / num_reviews,\n",
    "        int(num_reviews)\n",
    "    ))\n",
    "    \n",
    "    start = time.time()\n",
    "    \n",
    "    movie_mask = np.ravel(np.full((ratings_small.shape[1], 1), True))\n",
    "    movie_mask[movie_id] = False\n",
    "    \n",
    "    filter_by = np.ravel((ratings_small[:,movie_id] != 0.0).toarray())\n",
    "    filtered_clusters = clusters_all_users[filter_by]\n",
    "    filtered_ratings = ratings_small[filter_by,:]\n",
    "    \n",
    "    indexes = np.ravel(np.where(filter_by)[0])\n",
    "    \n",
    "    X = filtered_ratings\n",
    "    y = filtered_ratings[:,movie_id].toarray()\n",
    "    \n",
    "    X_train, X_test, y_train, y_test, c_train, c_test, i_train, i_test = train_test_split(X, y, filtered_clusters, indexes, test_size=0.2, random_state=0)\n",
    "    \n",
    "    y_pred_mean = []\n",
    "    y_test_all = []\n",
    "    \n",
    "    mean_all = np.mean(y_train)\n",
    "    cluster_predictions = [\n",
    "        np.mean(y_train[c_train == cluster]) if len(y_train[c_train == cluster]) else None for cluster in clusters\n",
    "    ]\n",
    "    \n",
    "    for (index, cluster, review) in zip(i_test, c_test, y_test):\n",
    "        y_test_all.append(review)\n",
    "        this_user_avg = user_avg_without_movie(index, movie_id)\n",
    "        if cluster_predictions[cluster] is not None:\n",
    "            if np.isnan(this_user_avg):\n",
    "                this_user_avg = cluster_averages[cluster]\n",
    "            user_difference = this_user_avg - cluster_averages[cluster]\n",
    "            y_pred_mean.append(cluster_predictions[cluster] + user_difference)\n",
    "        else:\n",
    "            if np.isnan(this_user_avg):\n",
    "                this_user_avg = mean_all\n",
    "            user_difference = this_user_avg - mean_all\n",
    "            y_pred_mean.append(mean_all + user_difference)\n",
    "\n",
    "\n",
    "    # compute metrics\n",
    "    master_pred.extend(y_pred_mean)\n",
    "    master_test.extend(y_test)\n",
    "        \n",
    "    current_r2 = r2_score(y_test, y_pred_mean)\n",
    "    current_mse = mean_squared_error(y_test, y_pred_mean)\n",
    "    \n",
    "    finish = time.time()\n",
    "    results_dict[movie_id] = {\n",
    "        'name': movie_by_id[movie_id],\n",
    "        'id': movie_id,\n",
    "#         'regr_time': regr_time,\n",
    "#         'data_time': data_time,\n",
    "        #'regr': regr,\n",
    "        'mse': current_mse,\n",
    "        'r2': current_r2,\n",
    "    }\n",
    "    print \"MSE: %.2f \\t\\t r2: %.2f \\t\\t time: %.2f\" % (\n",
    "        current_mse,\n",
    "        current_r2,\n",
    "#         data_time + regr_time, data_time, regr_time\n",
    "        finish - start,\n",
    "    )\n",
    "    print\n",
    "\n",
    "print 'FINAL'\n",
    "print 'r2:', r2_score(master_test, master_pred)\n",
    "print 'mse:', r2_score(master_test, master_pred)"
   ]
  },
  {
   "cell_type": "code",
   "execution_count": 303,
   "metadata": {
    "collapsed": false,
    "deletable": true,
    "editable": true
   },
   "outputs": [
    {
     "name": "stdout",
     "output_type": "stream",
     "text": [
      "1.172661578058318\n",
      "4\n",
      "0.873209503856999\n"
     ]
    }
   ],
   "source": [
    "def average_nested_dict_key(d, k):\n",
    "    sum = np.sum([d[i][k] for i in sorted(d.keys())])\n",
    "    return sum / len(d.keys())\n",
    "\n",
    "def list_nested_dict_key(d, k):\n",
    "    return [d[i][k] for i in sorted(d.keys())]\n",
    "\n",
    "print average_nested_dict_key(results_dict, 'mse')\n",
    "\n",
    "results = results_dict\n",
    "print len(results.keys())\n",
    "\n",
    "values = np.array(list_nested_dict_key(results, 'mse'))\n",
    "weights = np.array(list_nested_dict_key(reviews_by_movie, 'num_reviews')[:4])\n",
    "weighted = np.average(values, weights=weights)\n",
    "\n",
    "print weighted"
   ]
  },
  {
   "cell_type": "code",
   "execution_count": 173,
   "metadata": {
    "collapsed": false,
    "deletable": true,
    "editable": true
   },
   "outputs": [
    {
     "name": "stderr",
     "output_type": "stream",
     "text": [
      "/usr/local/lib/python2.7/site-packages/ipykernel/__main__.py:4: RuntimeWarning: invalid value encountered in divide\n"
     ]
    }
   ],
   "source": [
    "review_nums = []\n",
    "for i in range(17700):\n",
    "    num_reviews = ratings_small[:,i].count_nonzero()\n",
    "    review_nums.append((i, num_reviews, np.sum(ratings_small[:,i]) / num_reviews))"
   ]
  },
  {
   "cell_type": "code",
   "execution_count": 24,
   "metadata": {
    "collapsed": false,
    "deletable": true,
    "editable": true
   },
   "outputs": [
    {
     "name": "stdout",
     "output_type": "stream",
     "text": [
      "681\t4.5389133627\tFruits Basket (2001)\n",
      "17292\t4.54256303493\tThe Simpsons: Season 5 (1993)\n",
      "92470\t4.54370065967\tStar Wars: Episode V: The Empire Strikes Back (1980)\n",
      "134284\t4.54512078878\tLord of the Rings: The Return of the King (2003)\n",
      "125\t4.552\tLord of the Rings: The Return of the King: Extended Edition: Bonus Material (2003)\n",
      "1883\t4.55443441317\tInu-Yasha (2000)\n",
      "8426\t4.58129598861\tThe Simpsons: Season 6 (1994)\n",
      "6621\t4.58238936717\tArrested Development: Season 2 (2004)\n",
      "220\t4.58636363636\tGhost in the Shell: Stand Alone Complex: 2nd Gig (2005)\n",
      "1238\t4.59208400646\tVeronica Mars: Season 1 (2004)\n",
      "139660\t4.59338393241\tThe Shawshank Redemption: Special Edition (1994)\n",
      "89\t4.59550561798\tTenchi Muyo! Ryo Ohki (1995)\n",
      "25\t4.6\tTrailer Park Boys: Season 4 (2003)\n",
      "75\t4.6\tTrailer Park Boys: Season 3 (2003)\n",
      "1633\t4.60502143295\tFullmetal Alchemist (2004)\n",
      "1747\t4.63880938752\tBattlestar Galactica: Season 1 (2004)\n",
      "7249\t4.67098910195\tLost: Season 1 (2004)\n",
      "74912\t4.70261106365\tLord of the Rings: The Two Towers: Extended Edition (2002)\n",
      "73422\t4.71661082509\tThe Lord of the Rings: The Fellowship of the Ring: Extended Edition (2001)\n",
      "73335\t4.72326992568\tLord of the Rings: The Return of the King: Extended Edition (2003)\n"
     ]
    }
   ],
   "source": [
    "s = sorted(review_nums, key=lambda x: x[2])\n",
    "for movie_id, num, avg_review in s[-20:]:\n",
    "    print ('%s\\t%s\\t%s' % (num, avg_review, movie_by_id[movie_id]))"
   ]
  },
  {
   "cell_type": "code",
   "execution_count": 170,
   "metadata": {
    "collapsed": false,
    "deletable": true,
    "editable": true
   },
   "outputs": [
    {
     "data": {
      "text/plain": [
       "(20,)"
      ]
     },
     "execution_count": 170,
     "metadata": {},
     "output_type": "execute_result"
    }
   ],
   "source": []
  },
  {
   "cell_type": "code",
   "execution_count": null,
   "metadata": {
    "collapsed": true
   },
   "outputs": [],
   "source": []
  }
 ],
 "metadata": {
  "kernelspec": {
   "display_name": "Python 2",
   "language": "python",
   "name": "python2"
  },
  "language_info": {
   "codemirror_mode": {
    "name": "ipython",
    "version": 2
   },
   "file_extension": ".py",
   "mimetype": "text/x-python",
   "name": "python",
   "nbconvert_exporter": "python",
   "pygments_lexer": "ipython2",
   "version": "2.7.13"
  }
 },
 "nbformat": 4,
 "nbformat_minor": 2
}
