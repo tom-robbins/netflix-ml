{
 "cells": [
  {
   "cell_type": "code",
   "execution_count": 7,
   "metadata": {
    "collapsed": true
   },
   "outputs": [],
   "source": [
    "import csv\n",
    "import numpy as np\n",
    "import pandas as pd"
   ]
  },
  {
   "cell_type": "code",
   "execution_count": 23,
   "metadata": {
    "collapsed": false
   },
   "outputs": [],
   "source": [
    "# This file consists of titles and release years associated with each ID\n",
    "movie_titles = pd.read_csv('movie_titles.txt', header = None, names = ['ID','Year','Name'])\n",
    "\n",
    "movie_by_id = {}\n",
    "for id, name, year in zip(movie_titles['ID'], movie_titles['Name'], movie_titles['Year']):\n",
    "    movie_by_id[id] = name"
   ]
  },
  {
   "cell_type": "code",
   "execution_count": 41,
   "metadata": {
    "collapsed": false
   },
   "outputs": [
    {
     "name": "stdout",
     "output_type": "stream",
     "text": [
      "1631  movies with no genres\n"
     ]
    }
   ],
   "source": [
    "# First Level Genre Information Analysis\n",
    "movie_genres = pd.read_csv('../onehot_failed_movie_genres.csv', header = 0)\n",
    "zero_ids = []\n",
    "c = 0\n",
    "for r in movie_genres.iterrows():\n",
    "    if np.sum(r[1][1:]) == 0:\n",
    "        zero_ids.append(r[1][0])\n",
    "print len(zero_ids), ' movies with no genres'"
   ]
  },
  {
   "cell_type": "code",
   "execution_count": 42,
   "metadata": {
    "collapsed": false
   },
   "outputs": [
    {
     "name": "stdout",
     "output_type": "stream",
     "text": [
      "23\n"
     ]
    }
   ],
   "source": [
    "zero_names = [movie_by_id[i] for i in zero_ids]\n",
    "print np.sum([1 if 'Season' in s else 0 for s in zero_names])"
   ]
  },
  {
   "cell_type": "code",
   "execution_count": 40,
   "metadata": {
    "collapsed": false
   },
   "outputs": [],
   "source": [
    "failed_movies = open('../failed_movies2.csv', \"w\")\n",
    "writer = csv.writer(failed_movies, delimiter=',', quotechar='\"', quoting=csv.QUOTE_NONE, escapechar='\\\\')\n",
    "for i, n in zip(zero_ids, zero_names):\n",
    "    writer.writerow([i, 0, n])"
   ]
  },
  {
   "cell_type": "code",
   "execution_count": 81,
   "metadata": {
    "collapsed": false
   },
   "outputs": [
    {
     "name": "stdout",
     "output_type": "stream",
     "text": [
      "15396\n",
      "17771\n",
      "16139\n",
      "17771\n"
     ]
    }
   ],
   "source": [
    "failed = open('../onehot_failed_movie_genres.csv', \"r\")\n",
    "succed = open('../onehot_movie_genres.csv', \"r\")\n",
    "failed_reader = csv.reader(failed, delimiter=',', quotechar='\"', quoting=csv.QUOTE_NONE, escapechar='\\\\')\n",
    "succed_reader = csv.reader(succed, delimiter=',', quotechar='\"', quoting=csv.QUOTE_NONE, escapechar='\\\\')\n",
    "\n",
    "total = open('../onehot_all_movie_genres.csv', \"w\")\n",
    "writer = csv.writer(total, delimiter=',', quotechar='\"', quoting=csv.QUOTE_NONE, escapechar='\\\\')\n",
    "\n",
    "failed_rows = []\n",
    "succed_rows = []\n",
    "\n",
    "for row in failed_reader:\n",
    "    failed_rows.append(row)\n",
    "for row in succed_reader:\n",
    "    succed_rows.append(row)\n",
    "    \n",
    "print np.sum([np.sum([int(i) for i in r[1:]]) > 0 for r in succed_rows[1:]])\n",
    "print len(succed_rows)\n",
    "for r in failed_rows[1:]:\n",
    "    if np.sum([int(i) for i in r[1:]]) > 0:\n",
    "        succed_rows[int(r[0])] = r\n",
    "\n",
    "print np.sum([np.sum([int(i) for i in r[1:]]) > 0 for r in succed_rows[1:]])\n",
    "print len(succed_rows)\n",
    "for r in succed_rows:\n",
    "    writer.writerow(r)"
   ]
  },
  {
   "cell_type": "code",
   "execution_count": 83,
   "metadata": {
    "collapsed": false
   },
   "outputs": [
    {
     "name": "stdout",
     "output_type": "stream",
     "text": [
      "(17770, 28)\n"
     ]
    }
   ],
   "source": [
    "genres = pd.read_csv('../onehot_all_movie_genres.csv', header = 0)\n",
    "\n",
    "print genres.shape"
   ]
  },
  {
   "cell_type": "code",
   "execution_count": null,
   "metadata": {
    "collapsed": true
   },
   "outputs": [],
   "source": []
  }
 ],
 "metadata": {
  "kernelspec": {
   "display_name": "Python 2",
   "language": "python",
   "name": "python2"
  },
  "language_info": {
   "codemirror_mode": {
    "name": "ipython",
    "version": 2
   },
   "file_extension": ".py",
   "mimetype": "text/x-python",
   "name": "python",
   "nbconvert_exporter": "python",
   "pygments_lexer": "ipython2",
   "version": "2.7.13"
  }
 },
 "nbformat": 4,
 "nbformat_minor": 2
}
