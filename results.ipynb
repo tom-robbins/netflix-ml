{
 "cells": [
  {
   "cell_type": "code",
   "execution_count": 14,
   "metadata": {
    "collapsed": true,
    "deletable": true,
    "editable": true
   },
   "outputs": [],
   "source": [
    "import csv, os, pickle\n",
    "import matplotlib.pyplot as plt\n",
    "import numpy as np\n",
    "import pandas as pd"
   ]
  },
  {
   "cell_type": "code",
   "execution_count": 4,
   "metadata": {
    "collapsed": true,
    "deletable": true,
    "editable": true
   },
   "outputs": [],
   "source": [
    "# Initialize results dictionaries\n",
    "linear_regression_results = {}"
   ]
  },
  {
   "cell_type": "code",
   "execution_count": 18,
   "metadata": {
    "collapsed": false,
    "deletable": true,
    "editable": true
   },
   "outputs": [],
   "source": [
    "def merge_dicts(d1, d2):\n",
    "    d = d1.copy()\n",
    "    d.update(d2)\n",
    "    return d\n",
    "\n",
    "for i in range(10):\n",
    "    with open('pickle/linear_regression_results_%d.pickle' % i, 'r') as infile:\n",
    "        d = pickle.load(infile)\n",
    "        linear_regression_results = merge_dicts(linear_regression_results, d)"
   ]
  },
  {
   "cell_type": "code",
   "execution_count": 24,
   "metadata": {
    "collapsed": false
   },
   "outputs": [
    {
     "name": "stdout",
     "output_type": "stream",
     "text": [
      "17700 movies in Linear Regression dict\n",
      "\n",
      "r2\n",
      "0.779\tLeprechaun 3 (1995)\n",
      "0.756\tThe Andy Griffith Show: Vol 5: Rafe Hollister Sings / Class Reunion (1963)\n",
      "0.745\tDragon Ball: Fortune Teller Baba Saga (2002)\n",
      "0.739\tSilent Rage (1982)\n",
      "0.716\tTexas Chainsaw Massacre: The Next Generation (1994)\n",
      "0.715\tCadfael: A Morbid Taste for Bones (1996)\n",
      "0.715\tXena: Warrior Princess: Season 6 (2000)\n",
      "0.713\tThe Andy Griffith Show: Vol 4: The Mountain Wedding / Opie and the Spoiled Child (1963)\n",
      "0.713\tThe Andy Griffith Show: Vol 2: The Big House / A Wife for Andy (1963)\n",
      "0.711\tCadfael: The Holy Thief (1998)\n",
      "\n",
      "average r2 value: -0.10\n",
      "\n",
      "MSE\n",
      "0.085\tLarryboy and the Rumor Weed (1999)\n",
      "0.135\tAh! My Goddess (2005)\n",
      "0.214\tSword of the Beast (1965)\n",
      "0.248\tCadfael: A Morbid Taste for Bones (1996)\n",
      "0.252\t1969 (1988)\n",
      "0.263\tCadfael: The Potter's Field (1998)\n",
      "0.273\tAvia Vampire Hunter (2005)\n",
      "0.275\tDune: Extended Edition (1984)\n",
      "0.288\tCadfael: The Sanctuary Sparrow (1994)\n",
      "0.302\tInspector Morse 13: The Sins of the Father (1990)\n",
      "\n",
      "average MSE value: 1.29\n",
      "\n",
      "\n"
     ]
    }
   ],
   "source": [
    "# cursory analytics\n",
    "def average_nested_dict_key(d, k):\n",
    "    sum = np.sum([d[i][k] for i in d.keys()])\n",
    "    return sum / len(d.keys())\n",
    "\n",
    "result_dicts = [linear_regression_results]\n",
    "result_names = ['Linear Regression']\n",
    "\n",
    "for results, name in zip(result_dicts, result_names):\n",
    "    print '%d movies in %s dict' % (len(linear_regression_results.keys()), name)\n",
    "    print\n",
    "\n",
    "    ks = results.keys()\n",
    "    # sort by r2 value\n",
    "    print 'r2'\n",
    "    s = sorted(ks, key=lambda x: results[x]['r2'], reverse=True)\n",
    "    for i in s[:10]:\n",
    "        print '%.3f\\t%s' % (results[i]['r2'], results[i]['name'])\n",
    "\n",
    "    print\n",
    "    print 'average r2 value: %.2f' % average_nested_dict_key(results, 'r2')\n",
    "\n",
    "    # sort by mse\n",
    "    print '\\nMSE'\n",
    "    s = sorted(ks, key=lambda x: results[x]['mse'])\n",
    "    for i in s[:10]:\n",
    "        print '%.3f\\t%s' % (results[i]['mse'], results[i]['name'])\n",
    "\n",
    "    print\n",
    "    print 'average MSE value: %.2f' % average_nested_dict_key(results, 'mse')\n",
    "    print '\\n'"
   ]
  },
  {
   "cell_type": "code",
   "execution_count": null,
   "metadata": {
    "collapsed": true
   },
   "outputs": [],
   "source": []
  }
 ],
 "metadata": {
  "kernelspec": {
   "display_name": "Python 2",
   "language": "python",
   "name": "python2"
  },
  "language_info": {
   "codemirror_mode": {
    "name": "ipython",
    "version": 2
   },
   "file_extension": ".py",
   "mimetype": "text/x-python",
   "name": "python",
   "nbconvert_exporter": "python",
   "pygments_lexer": "ipython2",
   "version": "2.7.13"
  }
 },
 "nbformat": 4,
 "nbformat_minor": 2
}
